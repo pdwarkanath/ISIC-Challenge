{
 "cells": [
  {
   "cell_type": "code",
   "execution_count": 1,
   "metadata": {},
   "outputs": [],
   "source": [
    "import numpy as np\n",
    "import matplotlib.pyplot as plt\n",
    "%matplotlib inline\n",
    "import warnings\n",
    "warnings.filterwarnings('ignore')\n",
    "import tensorflow as tf\n",
    "from sklearn.metrics import confusion_matrix\n",
    "from tensorflow.python.saved_model import tag_constants"
   ]
  },
  {
   "cell_type": "code",
   "execution_count": 2,
   "metadata": {},
   "outputs": [],
   "source": [
    "X_file = 'X_final.npy'\n",
    "X = np.load(X_file)"
   ]
  },
  {
   "cell_type": "code",
   "execution_count": 4,
   "metadata": {},
   "outputs": [],
   "source": [
    "m, n_H0, n_W0, n_C0 = X.shape"
   ]
  },
  {
   "cell_type": "code",
   "execution_count": 5,
   "metadata": {},
   "outputs": [],
   "source": [
    "Y_file = 'Y_final.npy'\n",
    "Y = np.load(Y_file)"
   ]
  },
  {
   "cell_type": "code",
   "execution_count": 7,
   "metadata": {},
   "outputs": [],
   "source": [
    "def get_train_index(seed, train_size, m):\n",
    "    np.random.seed(seed)\n",
    "    train_index = np.random.choice(m, size = int(train_size*m), replace = False)\n",
    "    dev_index = list(set(range(m)) - set(train_index))\n",
    "    return train_index, dev_index"
   ]
  },
  {
   "cell_type": "code",
   "execution_count": 9,
   "metadata": {},
   "outputs": [],
   "source": [
    "train_size = 0.9\n",
    "seed = 3\n",
    "\n",
    "train_index, dev_index = get_train_index(seed, train_size, m)"
   ]
  },
  {
   "cell_type": "code",
   "execution_count": 10,
   "metadata": {},
   "outputs": [],
   "source": [
    "m_train = train_index.shape[0]"
   ]
  },
  {
   "cell_type": "code",
   "execution_count": 11,
   "metadata": {},
   "outputs": [],
   "source": [
    "X_train = X[train_index]\n",
    "Y_train = Y[train_index]\n",
    "\n",
    "X_dev = X[dev_index]\n",
    "Y_dev = Y[dev_index]"
   ]
  },
  {
   "cell_type": "code",
   "execution_count": 12,
   "metadata": {},
   "outputs": [],
   "source": [
    "def get_predictions(X, saved_model_loc, batch_size = 32):\n",
    "    graph = tf.get_default_graph()\n",
    "    with tf.Session(graph = graph) as sess:\n",
    "        # Restore saved values\n",
    "        \n",
    "        tf.saved_model.loader.load(sess, [tag_constants.SERVING], saved_model_loc)\n",
    "        \n",
    "        # Get restored placeholders\n",
    "        inputs = graph.get_tensor_by_name('inputs_ph:0')\n",
    "\n",
    "        # Get restored model output\n",
    "        predictions = graph.get_tensor_by_name('predictions:0')\n",
    "\n",
    "        m = X.shape[0]\n",
    "        num_batches = m//batch_size + 1\n",
    "\n",
    "        Y_preds = np.empty(shape = m)\n",
    "        \n",
    "        for batch in range(num_batches):\n",
    "                if batch != num_batches - 1:\n",
    "                    batch_index = range(batch*batch_size, (batch+1)*batch_size)\n",
    "                else:\n",
    "                    batch_index = range(batch*batch_size,m)\n",
    "                X_batch = X[batch_index]\n",
    "                Y_batch_preds = sess.run(predictions, feed_dict ={inputs: X_batch})\n",
    "                Y_preds[batch_index] = Y_batch_preds\n",
    "    return Y_preds"
   ]
  },
  {
   "cell_type": "code",
   "execution_count": 14,
   "metadata": {},
   "outputs": [
    {
     "name": "stdout",
     "output_type": "stream",
     "text": [
      "INFO:tensorflow:Restoring parameters from resnet50-201811220231/variables/variables\n"
     ]
    }
   ],
   "source": [
    "saved_model_loc = 'resnet50-201811220231'\n",
    "\n",
    "Y_dev_preds_saved = get_predictions(X_dev, saved_model_loc)"
   ]
  },
  {
   "cell_type": "code",
   "execution_count": 16,
   "metadata": {},
   "outputs": [
    {
     "name": "stdout",
     "output_type": "stream",
     "text": [
      "INFO:tensorflow:Restoring parameters from resnet50-201811220231/variables/variables\n"
     ]
    }
   ],
   "source": [
    "Y_train_0_preds = get_predictions(np.expand_dims(X_train[0],0), saved_model_loc)"
   ]
  },
  {
   "cell_type": "code",
   "execution_count": 17,
   "metadata": {},
   "outputs": [
    {
     "data": {
      "text/plain": [
       "array([1.])"
      ]
     },
     "execution_count": 17,
     "metadata": {},
     "output_type": "execute_result"
    }
   ],
   "source": [
    "Y_train_0_preds"
   ]
  },
  {
   "cell_type": "code",
   "execution_count": 18,
   "metadata": {},
   "outputs": [
    {
     "data": {
      "text/plain": [
       "array([1., 1., 1., ..., 1., 1., 0.])"
      ]
     },
     "execution_count": 18,
     "metadata": {},
     "output_type": "execute_result"
    }
   ],
   "source": [
    "Y_dev_preds_saved"
   ]
  },
  {
   "cell_type": "code",
   "execution_count": null,
   "metadata": {},
   "outputs": [],
   "source": []
  }
 ],
 "metadata": {
  "kernelspec": {
   "display_name": "Python 3",
   "language": "python",
   "name": "python3"
  },
  "language_info": {
   "codemirror_mode": {
    "name": "ipython",
    "version": 3
   },
   "file_extension": ".py",
   "mimetype": "text/x-python",
   "name": "python",
   "nbconvert_exporter": "python",
   "pygments_lexer": "ipython3",
   "version": "3.6.6"
  }
 },
 "nbformat": 4,
 "nbformat_minor": 2
}
