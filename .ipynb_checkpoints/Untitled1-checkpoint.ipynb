{
 "cells": [
  {
   "cell_type": "code",
   "execution_count": 1,
   "metadata": {},
   "outputs": [],
   "source": [
    "root_name = 'downloads_zip.tar.gz.part.a'"
   ]
  },
  {
   "cell_type": "code",
   "execution_count": 6,
   "metadata": {},
   "outputs": [
    {
     "name": "stdout",
     "output_type": "stream",
     "text": [
      "copy \b\n",
      "downloads_zip.tar.gz.part.aa + downloads_zip.tar.gz.part.ab + downloads_zip.tar.gz.part.ac + downloads_zip.tar.gz.part.ad + downloads_zip.tar.gz.part.ae + downloads_zip.tar.gz.part.af + downloads_zip.tar.gz.part.ag + downloads_zip.tar.gz.part.ah + downloads_zip.tar.gz.part.ai + downloads_zip.tar.gz.part.aj + "
     ]
    }
   ],
   "source": [
    "print('copy \\b')\n",
    "for i in 'abcdefghij':\n",
    "    print(root_name+i,end = ' + ')"
   ]
  },
  {
   "cell_type": "code",
   "execution_count": 7,
   "metadata": {},
   "outputs": [],
   "source": [
    "#!copy \\b downloads_zip.tar.gz.part.aa + downloads_zip.tar.gz.part.ab + downloads_zip.tar.gz.part.ac + downloads_zip.tar.gz.part.ad + downloads_zip.tar.gz.part.ae + downloads_zip.tar.gz.part.af + downloads_zip.tar.gz.part.ag + downloads_zip.tar.gz.part.ah + downloads_zip.tar.gz.part.ai + downloads_zip.tar.gz.part.aj > downloads_zip.tar.gz"
   ]
  },
  {
   "cell_type": "code",
   "execution_count": null,
   "metadata": {},
   "outputs": [],
   "source": []
  }
 ],
 "metadata": {
  "kernelspec": {
   "display_name": "Python 3",
   "language": "python",
   "name": "python3"
  },
  "language_info": {
   "codemirror_mode": {
    "name": "ipython",
    "version": 3
   },
   "file_extension": ".py",
   "mimetype": "text/x-python",
   "name": "python",
   "nbconvert_exporter": "python",
   "pygments_lexer": "ipython3",
   "version": "3.6.5"
  }
 },
 "nbformat": 4,
 "nbformat_minor": 2
}
