{
 "cells": [
  {
   "cell_type": "code",
   "execution_count": 1,
   "metadata": {},
   "outputs": [],
   "source": [
    "import numpy as np\n",
    "import pandas as pd\n",
    "import matplotlib.pyplot as plt\n",
    "%matplotlib inline\n",
    "import warnings\n",
    "warnings.filterwarnings('ignore')\n",
    "import tensorflow as tf\n",
    "import tensornets as nets\n",
    "from sklearn.metrics import confusion_matrix\n",
    "import h5py\n",
    "from tensorflow.python.framework import ops"
   ]
  },
  {
   "cell_type": "markdown",
   "metadata": {},
   "source": [
    "## List of tasks:\n",
    "\n",
    "1. Load images as arrays\n",
    "2. Load labels\n",
    "3. Convert labels from one-hot vector to vector of labels\n",
    "4. Display images with labels\n",
    "5. Flip images and labels\n",
    "6. Make x and y training + dev arrays\n",
    "7. Load pre-trained architecture (eg. VGG19)\n",
    "8. Train with new data\n",
    "9. Make predictions\n",
    "10. Set up metrics - accuracy, precision, recall. Output train and dev metrics.\n",
    "11. Tune hyperparameters"
   ]
  },
  {
   "cell_type": "code",
   "execution_count": 2,
   "metadata": {},
   "outputs": [],
   "source": [
    "X_orig_file = 'X_final.npy'\n",
    "X_orig = np.load(X_orig_file)"
   ]
  },
  {
   "cell_type": "code",
   "execution_count": 3,
   "metadata": {},
   "outputs": [
    {
     "data": {
      "text/plain": [
       "(11043, 224, 224, 3)"
      ]
     },
     "execution_count": 3,
     "metadata": {},
     "output_type": "execute_result"
    }
   ],
   "source": [
    "X_orig.shape"
   ]
  },
  {
   "cell_type": "code",
   "execution_count": 4,
   "metadata": {},
   "outputs": [],
   "source": [
    "# Flip images and labels\n",
    "\n",
    "m, n_H0, n_W0, n_C0 = X_orig.shape"
   ]
  },
  {
   "cell_type": "code",
   "execution_count": 5,
   "metadata": {},
   "outputs": [],
   "source": [
    "labels_loc = 'Y_final_df.csv'\n",
    "#Y_orig, labels = get_labels(labels_loc, m)\n",
    "Y_df = pd.read_csv(labels_loc)\n",
    "Y_orig = np.array(Y_df.iloc[:m, 1:])"
   ]
  },
  {
   "cell_type": "code",
   "execution_count": 6,
   "metadata": {},
   "outputs": [],
   "source": [
    "def flip_arrs(X_orig, Y_orig):\n",
    "    m, n_H0, n_W0, n_C0 = X_orig.shape\n",
    "    X_flip = X_orig[:,:,n_W0-1::-1,:]\n",
    "    Y_flip = Y_orig\n",
    "    return X_flip, Y_flip"
   ]
  },
  {
   "cell_type": "code",
   "execution_count": 7,
   "metadata": {},
   "outputs": [],
   "source": [
    "X_flip, Y_flip = flip_arrs(X_orig, Y_orig)"
   ]
  },
  {
   "cell_type": "code",
   "execution_count": 8,
   "metadata": {},
   "outputs": [
    {
     "data": {
      "text/plain": [
       "(11043, 7)"
      ]
     },
     "execution_count": 8,
     "metadata": {},
     "output_type": "execute_result"
    }
   ],
   "source": [
    "Y_flip.shape"
   ]
  },
  {
   "cell_type": "code",
   "execution_count": 9,
   "metadata": {},
   "outputs": [],
   "source": [
    "X = np.vstack([X_orig, X_flip])\n",
    "Y = np.vstack([Y_orig, Y_flip])"
   ]
  },
  {
   "cell_type": "code",
   "execution_count": 10,
   "metadata": {},
   "outputs": [
    {
     "data": {
      "text/plain": [
       "(22086, 224, 224, 3)"
      ]
     },
     "execution_count": 10,
     "metadata": {},
     "output_type": "execute_result"
    }
   ],
   "source": [
    "X.shape"
   ]
  },
  {
   "cell_type": "code",
   "execution_count": 11,
   "metadata": {},
   "outputs": [
    {
     "data": {
      "text/plain": [
       "(22086, 7)"
      ]
     },
     "execution_count": 11,
     "metadata": {},
     "output_type": "execute_result"
    }
   ],
   "source": [
    "Y.shape"
   ]
  },
  {
   "cell_type": "code",
   "execution_count": 12,
   "metadata": {},
   "outputs": [],
   "source": [
    "# Make x and y training + dev arrays\n",
    "\n",
    "def get_train_index(seed, train_size, m):\n",
    "    np.random.seed(seed)\n",
    "    train_index = np.random.choice(2*m, size = int(train_size*2*m), replace = False)\n",
    "    dev_index = list(set(range(2*m)) - set(train_index))\n",
    "    return train_index, dev_index\n"
   ]
  },
  {
   "cell_type": "code",
   "execution_count": 13,
   "metadata": {},
   "outputs": [],
   "source": [
    "train_size = 0.9\n",
    "seed = 3\n"
   ]
  },
  {
   "cell_type": "code",
   "execution_count": 14,
   "metadata": {},
   "outputs": [],
   "source": [
    "train_index, dev_index = get_train_index(seed, train_size, m)"
   ]
  },
  {
   "cell_type": "code",
   "execution_count": 15,
   "metadata": {},
   "outputs": [],
   "source": [
    "m_train = train_index.shape[0]"
   ]
  },
  {
   "cell_type": "code",
   "execution_count": 16,
   "metadata": {},
   "outputs": [],
   "source": [
    "X_train = X[train_index]\n",
    "Y_train = Y[train_index]\n",
    "\n",
    "#X_train = np.empty([m_train, 224, 224, 3])\n",
    "#Y_train = np.empty([m_train, 224, 224, 3])\n",
    "\n",
    "#for i, j in enumerate(train_index):\n",
    "#    X_train[i] = X[j]\n",
    "#    Y_train[i] = Y[j]\n",
    "X_dev = X[dev_index]\n",
    "Y_dev = Y[dev_index]"
   ]
  },
  {
   "cell_type": "code",
   "execution_count": 17,
   "metadata": {},
   "outputs": [],
   "source": [
    "def create_placeholders(n_H0,n_W0,n_C0,n_y):\n",
    "    # ImageNet input image shape is (244, 244, 3)\n",
    "    inputs = tf.placeholder(tf.float32, [None, n_H0,n_W0,n_C0])\n",
    "\n",
    "    # Output is dependent on your situation (10 for CIFAR-10)\n",
    "    outputs = tf.placeholder(tf.float32, [None, n_y])\n",
    "    return inputs, outputs"
   ]
  },
  {
   "cell_type": "code",
   "execution_count": 18,
   "metadata": {},
   "outputs": [],
   "source": [
    "def forward_prop(model, inputs):\n",
    "\n",
    "    # model to give the name\n",
    "    if model == 'resnet50':\n",
    "        logits = nets.ResNet50(inputs, is_training=True, classes=7)\n",
    "        middles = logits.get_outputs()[-4]\n",
    "    elif model == 'squeezenet':\n",
    "        logits = nets.SqueezeNet(inputs, is_training=True, classes=7)\n",
    "        middles = logits.get_outputs()[-3]\n",
    "\n",
    "    Z1 = tf.contrib.layers.flatten(middles)\n",
    "    # FULLY-CONNECTED \n",
    "    Z2 = tf.contrib.layers.fully_connected(Z1, 120)\n",
    "    # FULLY-CONNECTED \n",
    "    Y_hat = tf.contrib.layers.fully_connected(Z2, 7, activation_fn = tf.nn.softmax)\n",
    "    return Y_hat, logits"
   ]
  },
  {
   "cell_type": "code",
   "execution_count": 19,
   "metadata": {},
   "outputs": [],
   "source": [
    "\n",
    "def compute_loss(outputs, Y_hat, class_weights):\n",
    "\n",
    "    weights = tf.reduce_sum(class_weights * outputs, axis=1)\n",
    "\n",
    "    # loss function applied to the last layer\n",
    "    # train on the loss (Adam Optimizer is used)\n",
    "\n",
    "    loss = tf.losses.softmax_cross_entropy(outputs, Y_hat)\n",
    "    weighted_loss = tf.reduce_mean(loss*weights)\n",
    "    return weighted_loss\n",
    "\n",
    "\n",
    "\n",
    "def optimizer(learning_rate, weighted_loss):\n",
    "    train = tf.train.AdamOptimizer(learning_rate).minimize(weighted_loss)\n",
    "    return train\n",
    "\n",
    "\n",
    "\n",
    "# for measuring accuracy after forward pass\n",
    "def get_acc(Y_hat, outputs):\n",
    "    predictions = tf.argmax(Y_hat, 1)\n",
    "    correct_pred = tf.cast(tf.equal(predictions, tf.argmax(outputs, 1)),tf.float32)\n",
    "    accuracy = tf.reduce_mean(correct_pred, name='accuracy')\n",
    "    return prediction, accuracy"
   ]
  },
  {
   "cell_type": "code",
   "execution_count": 20,
   "metadata": {},
   "outputs": [],
   "source": [
    "def train_model(X_train, Y_train, X_dev, Y_dev, model, class_weights, learning_rate, batch_size, num_epochs, print_loss = True):\n",
    "    ops.reset_default_graph()\n",
    "    n_y = Y_train.shape[1]\n",
    "    m_train, n_H0, n_W0, n_C0 = X_train.shape\n",
    "    num_batches = m_train//batch_size + 1\n",
    "    \n",
    "    losses = []\n",
    "    inputs, outputs = create_placeholders(n_H0,n_W0,n_C0,n_y)\n",
    "    Y_hat, logits = forward_prop(model, inputs)\n",
    "    weighted_loss = compute_loss(outputs, Y_hat, class_weights)\n",
    "    train = optimizer(learning_rate, weighted_loss)\n",
    "    init = tf.global_variables_initializer()\n",
    "    \n",
    "\n",
    "    with tf.Session() as sess:    \n",
    "        # Initializing the variables\n",
    "        sess.run(init)\n",
    "\n",
    "        # Loading the parameters\n",
    "        sess.run(logits.pretrained())\n",
    "\n",
    "        for epoch in range(num_epochs):\n",
    "            batch_loss = 0\n",
    "            full_batch = range(m_train)\n",
    "            for batch in range(num_batches):\n",
    "                try:\n",
    "                    batch_index = np.random.choice(full_batch, size=batch_size, replace = False)\n",
    "                    full_batch = np.array(list(set(full_batch) - set(batch_index)))\n",
    "                except ValueError:\n",
    "                    batch_index = full_batch\n",
    "                X_train_batch = X_train[batch_index]\n",
    "                Y_train_batch = Y_train[batch_index]\n",
    "                sess.run(train, feed_dict = {inputs: X_train_batch, outputs: Y_train_batch})\n",
    "                temp_loss = sess.run(weighted_loss, feed_dict ={inputs: X_train_batch, outputs: Y_train_batch})\n",
    "                batch_loss += temp_loss/num_batches\n",
    "            losses.append(batch_loss)\n",
    "            if print_loss:\n",
    "                print('Loss after epoch {:2d}: {:5f}'.format(epoch+1, batch_loss))\n",
    "        \n",
    "        predictions = tf.argmax(Y_hat, 1)  \n",
    "        \n",
    "        Y_train_preds = np.empty(shape = m_train)\n",
    "        for batch in range(num_batches):\n",
    "            if batch != num_batches - 1:\n",
    "                batch_index = range(batch*batch_size, (batch+1)*batch_size)\n",
    "            else:\n",
    "                batch_index = range(batch*batch_size,m_train)\n",
    "            X_train_batch = X_train[batch_index]\n",
    "            Y_train_batch_preds = sess.run(predictions, feed_dict ={inputs: X_train_batch})\n",
    "            Y_train_preds[batch_index] = Y_train_batch_preds\n",
    "            #print('Train batch {} completed'.format(batch+1))\n",
    "        \n",
    "        \n",
    "        m_dev = X_dev.shape[0]\n",
    "        num_batches = m_dev//batch_size + 1\n",
    "        \n",
    "        Y_dev_preds = np.empty(shape = m_dev)\n",
    "        for batch in range(num_batches):\n",
    "            if batch != num_batches - 1:\n",
    "                batch_index = range(batch*batch_size, (batch+1)*batch_size)\n",
    "            else:\n",
    "                batch_index = range(batch*batch_size,m_dev)\n",
    "            X_dev_batch = X_dev[batch_index]\n",
    "            Y_dev_batch_preds = sess.run(predictions, feed_dict ={inputs: X_dev_batch})\n",
    "            Y_dev_preds[batch_index] = Y_dev_batch_preds\n",
    "            #print('Dev batch {} completed'.format(batch+1))\n",
    "        \n",
    "        #Y_train_preds = get_preds(X_train, model, batch_size, sess)\n",
    "        #Y_dev_preds = get_preds(X_dev, model, batch_size, sess)\n",
    "    \n",
    "    return Y_train_preds, Y_dev_preds, losses"
   ]
  },
  {
   "cell_type": "code",
   "execution_count": 21,
   "metadata": {},
   "outputs": [
    {
     "name": "stdout",
     "output_type": "stream",
     "text": [
      "Loss after epoch  1: 0.617221\n",
      "Loss after epoch  2: 0.604494\n",
      "Loss after epoch  3: 0.573474\n",
      "Loss after epoch  4: 0.546788\n",
      "Loss after epoch  5: 0.533562\n",
      "Loss after epoch  6: 0.525481\n",
      "Loss after epoch  7: 0.518662\n",
      "Loss after epoch  8: 0.513739\n",
      "Loss after epoch  9: 0.509636\n",
      "Loss after epoch 10: 0.506842\n",
      "Loss after epoch 11: 0.491349\n",
      "Loss after epoch 12: 0.479492\n"
     ]
    }
   ],
   "source": [
    "model = 'resnet50'\n",
    "class_weights = np.array(np.mean(Y_orig, axis = 0)).astype('float32')\n",
    "learning_rate=2e-5\n",
    "batch_size = 32\n",
    "num_epochs = 12\n",
    "\n",
    "\n",
    "Y_train_preds, Y_dev_preds, losses = train_model(X_train, Y_train, X_dev, Y_dev, model, class_weights, learning_rate, batch_size, num_epochs)"
   ]
  },
  {
   "cell_type": "code",
   "execution_count": 22,
   "metadata": {},
   "outputs": [],
   "source": [
    "def plot_losses(model, losses, learning_rate):\n",
    "    losses = np.squeeze(losses)\n",
    "    num_epochs = len(losses)\n",
    "    plot_title = \"Learning rate =\" + str(learning_rate)\n",
    "    \n",
    "    fig, ax = plt.subplots(figsize=(8,6))\n",
    "    ax.plot(losses)\n",
    "    ax.set(title = plot_title, xlabel = 'Epochs', ylabel ='Loss', xlim = (-1,num_epochs+1))\n",
    "    \n",
    "    fig.savefig(model+'TrainingLoss.png')\n",
    "    plt.show()"
   ]
  },
  {
   "cell_type": "code",
   "execution_count": 23,
   "metadata": {},
   "outputs": [
    {
     "data": {
      "image/png": "[encoded data removed]",
      "text/plain": [
       "<Figure size 576x432 with 1 Axes>"
      ]
     },
     "metadata": {
      "needs_background": "light"
     },
     "output_type": "display_data"
    }
   ],
   "source": [
    "plot_losses(model, losses, learning_rate)"
   ]
  },
  {
   "cell_type": "code",
   "execution_count": 24,
   "metadata": {},
   "outputs": [],
   "source": [
    "Y_train_vec = np.argmax(Y_train, 1)"
   ]
  },
  {
   "cell_type": "code",
   "execution_count": 25,
   "metadata": {},
   "outputs": [
    {
     "data": {
      "text/plain": [
       "array([1, 1, 0, ..., 1, 1, 1])"
      ]
     },
     "execution_count": 25,
     "metadata": {},
     "output_type": "execute_result"
    }
   ],
   "source": [
    "Y_train_vec"
   ]
  },
  {
   "cell_type": "code",
   "execution_count": 26,
   "metadata": {},
   "outputs": [
    {
     "data": {
      "text/plain": [
       "array([1., 1., 0., ..., 1., 1., 1.])"
      ]
     },
     "execution_count": 26,
     "metadata": {},
     "output_type": "execute_result"
    }
   ],
   "source": [
    "Y_train_preds"
   ]
  },
  {
   "cell_type": "code",
   "execution_count": 27,
   "metadata": {},
   "outputs": [],
   "source": [
    "def get_metrics(actuals, preds):\n",
    "    accuracy = np.mean((actuals == preds).astype(int))\n",
    "    cm = confusion_matrix(actuals, preds)\n",
    "    diag = np.diagonal(cm)\n",
    "    vert_sum = np.sum(cm, axis = 0)\n",
    "    hor_sum = np.sum(cm, axis = 1)\n",
    "    precision = np.nanmean(diag/vert_sum)\n",
    "    recall = np.nanmean(diag/hor_sum)\n",
    "    f1score = 2*precision*recall/(precision+recall)\n",
    "    \n",
    "    metrics = {'accuracy': accuracy,'confusion_matrix': cm, 'precision':precision, 'recall': recall, 'f1score': f1score}\n",
    "    return metrics"
   ]
  },
  {
   "cell_type": "code",
   "execution_count": 28,
   "metadata": {},
   "outputs": [],
   "source": [
    "train_metrics = get_metrics(Y_train_vec, Y_train_preds)"
   ]
  },
  {
   "cell_type": "code",
   "execution_count": 29,
   "metadata": {},
   "outputs": [
    {
     "data": {
      "text/plain": [
       "0.9605071187805001"
      ]
     },
     "execution_count": 29,
     "metadata": {},
     "output_type": "execute_result"
    }
   ],
   "source": [
    "train_metrics['accuracy']"
   ]
  },
  {
   "cell_type": "code",
   "execution_count": 30,
   "metadata": {},
   "outputs": [
    {
     "data": {
      "text/plain": [
       "array([[ 1567,   410,     3,     3,    12,     0,     2],\n",
       "       [   24, 12018,    12,     5,    16,     0,     4],\n",
       "       [    1,    24,   890,     1,     5,     0,     0],\n",
       "       [    2,    20,     5,   548,    12,     0,     0],\n",
       "       [   25,   140,     9,     7,  1801,     0,     0],\n",
       "       [    1,    11,     0,     0,     4,  1020,     0],\n",
       "       [    6,    20,     0,     0,     1,     0,  1248]])"
      ]
     },
     "execution_count": 30,
     "metadata": {},
     "output_type": "execute_result"
    }
   ],
   "source": [
    "train_metrics['confusion_matrix']"
   ]
  },
  {
   "cell_type": "code",
   "execution_count": 31,
   "metadata": {},
   "outputs": [
    {
     "data": {
      "text/plain": [
       "0.9746511741812947"
      ]
     },
     "execution_count": 31,
     "metadata": {},
     "output_type": "execute_result"
    }
   ],
   "source": [
    "train_metrics['precision']"
   ]
  },
  {
   "cell_type": "code",
   "execution_count": 32,
   "metadata": {},
   "outputs": [
    {
     "data": {
      "text/plain": [
       "0.9359408508941417"
      ]
     },
     "execution_count": 32,
     "metadata": {},
     "output_type": "execute_result"
    }
   ],
   "source": [
    "train_metrics['recall']"
   ]
  },
  {
   "cell_type": "code",
   "execution_count": 33,
   "metadata": {},
   "outputs": [],
   "source": [
    "Y_dev_vec = np.argmax(Y_dev, axis = 1)"
   ]
  },
  {
   "cell_type": "code",
   "execution_count": 34,
   "metadata": {},
   "outputs": [
    {
     "data": {
      "text/plain": [
       "array([1, 1, 1, ..., 1, 2, 1])"
      ]
     },
     "execution_count": 34,
     "metadata": {},
     "output_type": "execute_result"
    }
   ],
   "source": [
    "Y_dev_vec"
   ]
  },
  {
   "cell_type": "code",
   "execution_count": 35,
   "metadata": {},
   "outputs": [],
   "source": [
    "dev_metrics = get_metrics(Y_dev_vec, Y_dev_preds)"
   ]
  },
  {
   "cell_type": "code",
   "execution_count": 36,
   "metadata": {},
   "outputs": [
    {
     "data": {
      "text/plain": [
       "0.8886373924852875"
      ]
     },
     "execution_count": 36,
     "metadata": {},
     "output_type": "execute_result"
    }
   ],
   "source": [
    "dev_metrics['accuracy']"
   ]
  },
  {
   "cell_type": "code",
   "execution_count": 37,
   "metadata": {},
   "outputs": [
    {
     "data": {
      "text/plain": [
       "array([[ 128,   91,    1,    1,    8,    0,    0],\n",
       "       [   8, 1312,    3,    3,    4,    0,    1],\n",
       "       [   2,   10,   82,    3,    9,    0,    1],\n",
       "       [   3,    5,    4,   49,    6,    0,    0],\n",
       "       [  24,   39,    3,    6,  144,    0,    0],\n",
       "       [   0,    5,    0,    0,    1,  108,    0],\n",
       "       [   2,    3,    0,    0,    0,    0,  140]])"
      ]
     },
     "execution_count": 37,
     "metadata": {},
     "output_type": "execute_result"
    }
   ],
   "source": [
    "dev_metrics['confusion_matrix']"
   ]
  },
  {
   "cell_type": "code",
   "execution_count": 38,
   "metadata": {},
   "outputs": [
    {
     "data": {
      "text/plain": [
       "0.8795997159765742"
      ]
     },
     "execution_count": 38,
     "metadata": {},
     "output_type": "execute_result"
    }
   ],
   "source": [
    "dev_metrics['precision']"
   ]
  },
  {
   "cell_type": "code",
   "execution_count": 39,
   "metadata": {},
   "outputs": [
    {
     "data": {
      "text/plain": [
       "0.8031325338165695"
      ]
     },
     "execution_count": 39,
     "metadata": {},
     "output_type": "execute_result"
    }
   ],
   "source": [
    "dev_metrics['recall']"
   ]
  },
  {
   "cell_type": "code",
   "execution_count": 44,
   "metadata": {},
   "outputs": [
    {
     "name": "stdout",
     "output_type": "stream",
     "text": [
      "Loss after epoch  1: 0.747425\n",
      "Loss after epoch  2: 0.708969\n",
      "Loss after epoch  3: 0.709248\n",
      "Loss after epoch  4: 0.708905\n",
      "Loss after epoch  5: 0.709061\n",
      "Loss after epoch  6: 0.708927\n",
      "Loss after epoch  7: 0.708529\n",
      "Loss after epoch  8: 0.708742\n",
      "Loss after epoch  9: 0.708647\n",
      "Loss after epoch 10: 0.708848\n",
      "Loss after epoch 11: 0.708583\n",
      "Loss after epoch 12: 0.709196\n"
     ]
    }
   ],
   "source": [
    "learning_rate=3e-6\n",
    "model = 'squeezenet'\n",
    "Y_train_preds_sq, Y_dev_preds_sq, losses_sq = train_model(X_train, Y_train, X_dev, Y_dev, model, class_weights, learning_rate, batch_size, num_epochs=12)"
   ]
  },
  {
   "cell_type": "code",
   "execution_count": 45,
   "metadata": {},
   "outputs": [
    {
     "data": {
      "image/png": "[encoded data removed]",
      "text/plain": [
       "<Figure size 576x432 with 1 Axes>"
      ]
     },
     "metadata": {
      "needs_background": "light"
     },
     "output_type": "display_data"
    }
   ],
   "source": [
    "plot_losses(model, losses_sq, learning_rate)"
   ]
  },
  {
   "cell_type": "code",
   "execution_count": 46,
   "metadata": {},
   "outputs": [],
   "source": [
    "train_metrics_sq = get_metrics(Y_train_vec, Y_train_preds_sq)"
   ]
  },
  {
   "cell_type": "code",
   "execution_count": 47,
   "metadata": {},
   "outputs": [
    {
     "data": {
      "text/plain": [
       "{'accuracy': 0.6693293393243468,\n",
       " 'confusion_matrix': array([[    0,  1990,     0,     0,     0,     0,     0],\n",
       "        [    0, 12066,     0,     0,     0,     0,     0],\n",
       "        [    0,   925,     0,     0,     0,     0,     0],\n",
       "        [    0,   595,     0,     0,     0,     0,     0],\n",
       "        [    0,  1986,     0,     0,     0,     0,     0],\n",
       "        [    0,   211,     0,     0,     0,     0,     0],\n",
       "        [    0,   254,     0,     0,     0,     0,     0]]),\n",
       " 'precision': 0.6693293393243468,\n",
       " 'recall': 0.14285714285714285}"
      ]
     },
     "execution_count": 47,
     "metadata": {},
     "output_type": "execute_result"
    }
   ],
   "source": [
    "train_metrics_sq"
   ]
  },
  {
   "cell_type": "code",
   "execution_count": 48,
   "metadata": {},
   "outputs": [],
   "source": [
    "dev_metrics_sq = get_metrics(Y_dev_vec, Y_dev_preds_sq)"
   ]
  },
  {
   "cell_type": "code",
   "execution_count": 49,
   "metadata": {},
   "outputs": [
    {
     "data": {
      "text/plain": [
       "{'accuracy': 0.670993509735397,\n",
       " 'confusion_matrix': array([[   0,  236,    0,    0,    0,    0,    0],\n",
       "        [   0, 1344,    0,    0,    0,    0,    0],\n",
       "        [   0,  103,    0,    0,    0,    0,    0],\n",
       "        [   0,   59,    0,    0,    0,    0,    0],\n",
       "        [   0,  212,    0,    0,    0,    0,    0],\n",
       "        [   0,   19,    0,    0,    0,    0,    0],\n",
       "        [   0,   30,    0,    0,    0,    0,    0]]),\n",
       " 'precision': 0.670993509735397,\n",
       " 'recall': 0.14285714285714285}"
      ]
     },
     "execution_count": 49,
     "metadata": {},
     "output_type": "execute_result"
    }
   ],
   "source": [
    "dev_metrics_sq"
   ]
  }
 ],
 "metadata": {
  "kernelspec": {
   "display_name": "Python 3",
   "language": "python",
   "name": "python3"
  },
  "language_info": {
   "codemirror_mode": {
    "name": "ipython",
    "version": 3
   },
   "file_extension": ".py",
   "mimetype": "text/x-python",
   "name": "python",
   "nbconvert_exporter": "python",
   "pygments_lexer": "ipython3",
   "version": "3.6.6"
  }
 },
 "nbformat": 4,
 "nbformat_minor": 2
}
