{
 "cells": [
  {
   "cell_type": "code",
   "execution_count": 16,
   "metadata": {},
   "outputs": [],
   "source": [
    "import numpy as np\n",
    "import pandas as pd\n",
    "import matplotlib.pyplot as plt\n",
    "%matplotlib inline\n",
    "import warnings\n",
    "warnings.filterwarnings('ignore')\n",
    "import tensorflow as tf\n",
    "import tensornets as nets\n",
    "from sklearn.metrics import confusion_matrix\n",
    "from tensorflow.python.framework import ops\n",
    "from tensorflow.python.saved_model import tag_constants\n",
    "import time"
   ]
  },
  {
   "cell_type": "markdown",
   "metadata": {},
   "source": [
    "## List of tasks:\n",
    "\n",
    "1. Load images as arrays\n",
    "2. Load labels\n",
    "3. Make x and y training + dev arrays\n",
    "4. Load pre-trained architecture (eg. VGG19)\n",
    "5. Train with new data\n",
    "6. Make predictions\n",
    "7. Set up metrics - accuracy, precision, recall. Output train and dev metrics.\n",
    "8. Tune hyperparameters"
   ]
  },
  {
   "cell_type": "code",
   "execution_count": 26,
   "metadata": {},
   "outputs": [],
   "source": [
    "ts = time.strftime('%Y%m%d%H%M')"
   ]
  },
  {
   "cell_type": "code",
   "execution_count": 27,
   "metadata": {},
   "outputs": [
    {
     "data": {
      "text/plain": [
       "'resnet50-201811220228'"
      ]
     },
     "execution_count": 27,
     "metadata": {},
     "output_type": "execute_result"
    }
   ],
   "source": [
    "model='resnet50'\n",
    "model+'-'+ts"
   ]
  },
  {
   "cell_type": "code",
   "execution_count": 2,
   "metadata": {},
   "outputs": [],
   "source": [
    "X_file = 'X_final.npy'\n",
    "X = np.load(X_file)"
   ]
  },
  {
   "cell_type": "code",
   "execution_count": 3,
   "metadata": {},
   "outputs": [
    {
     "data": {
      "text/plain": [
       "(22740, 224, 224, 3)"
      ]
     },
     "execution_count": 3,
     "metadata": {},
     "output_type": "execute_result"
    }
   ],
   "source": [
    "X.shape"
   ]
  },
  {
   "cell_type": "code",
   "execution_count": 4,
   "metadata": {},
   "outputs": [],
   "source": [
    "# Flip images and labels\n",
    "\n",
    "m, n_H0, n_W0, n_C0 = X.shape"
   ]
  },
  {
   "cell_type": "code",
   "execution_count": 5,
   "metadata": {},
   "outputs": [],
   "source": [
    "Y_file = 'Y_final.npy'\n",
    "Y = np.load(Y_file)"
   ]
  },
  {
   "cell_type": "code",
   "execution_count": 6,
   "metadata": {},
   "outputs": [
    {
     "data": {
      "text/plain": [
       "(22740, 7)"
      ]
     },
     "execution_count": 6,
     "metadata": {},
     "output_type": "execute_result"
    }
   ],
   "source": [
    "Y.shape"
   ]
  },
  {
   "cell_type": "code",
   "execution_count": 7,
   "metadata": {},
   "outputs": [],
   "source": [
    "labels_loc = '../ISIC2018_Task3_Training_GroundTruth/ISIC2018_Task3_Training_GroundTruth.csv'\n",
    "\n",
    "def get_Y_orig(labels_loc):\n",
    "    Y_df = pd.read_csv(labels_loc)\n",
    "    Y_orig = np.array(Y_df.iloc[:,1:])\n",
    "    return Y_orig\n",
    "\n",
    "Y_orig = get_Y_orig(labels_loc)\n",
    "\n",
    "class_weights = np.array(np.mean(Y_orig, axis = 0)).astype('float32')"
   ]
  },
  {
   "cell_type": "code",
   "execution_count": 8,
   "metadata": {},
   "outputs": [],
   "source": [
    "# Make x and y training + dev arrays\n",
    "\n",
    "def get_train_index(seed, train_size, m):\n",
    "    np.random.seed(seed)\n",
    "    train_index = np.random.choice(m, size = int(train_size*m), replace = False)\n",
    "    dev_index = list(set(range(m)) - set(train_index))\n",
    "    return train_index, dev_index\n"
   ]
  },
  {
   "cell_type": "code",
   "execution_count": 9,
   "metadata": {},
   "outputs": [],
   "source": [
    "train_size = 0.9\n",
    "seed = 3\n"
   ]
  },
  {
   "cell_type": "code",
   "execution_count": 10,
   "metadata": {},
   "outputs": [],
   "source": [
    "train_index, dev_index = get_train_index(seed, train_size, m)"
   ]
  },
  {
   "cell_type": "code",
   "execution_count": 11,
   "metadata": {},
   "outputs": [],
   "source": [
    "m_train = train_index.shape[0]"
   ]
  },
  {
   "cell_type": "code",
   "execution_count": 12,
   "metadata": {},
   "outputs": [],
   "source": [
    "X_train = X[train_index]\n",
    "Y_train = Y[train_index]\n",
    "\n",
    "#X_train = np.empty([m_train, 224, 224, 3])\n",
    "#Y_train = np.empty([m_train, 224, 224, 3])\n",
    "\n",
    "#for i, j in enumerate(train_index):\n",
    "#    X_train[i] = X[j]\n",
    "#    Y_train[i] = Y[j]\n",
    "X_dev = X[dev_index]\n",
    "Y_dev = Y[dev_index]"
   ]
  },
  {
   "cell_type": "code",
   "execution_count": 13,
   "metadata": {},
   "outputs": [],
   "source": [
    "def create_placeholders(n_H0,n_W0,n_C0,n_y):\n",
    "    # ImageNet input image shape is (244, 244, 3)\n",
    "    inputs = tf.placeholder(tf.float32, [None, n_H0,n_W0,n_C0], name = 'inputs_ph')\n",
    "\n",
    "    # Output is dependent on your situation (10 for CIFAR-10)\n",
    "    outputs = tf.placeholder(tf.float32, [None, n_y], name = 'outputs_ph')\n",
    "    return inputs, outputs"
   ]
  },
  {
   "cell_type": "code",
   "execution_count": 14,
   "metadata": {},
   "outputs": [],
   "source": [
    "def forward_prop(model, inputs):\n",
    "\n",
    "    # model to give the name\n",
    "    if model == 'resnet50':\n",
    "        logits = nets.ResNet50(inputs, is_training=True, classes=7)\n",
    "        middles = logits.get_outputs()[-4]\n",
    "    elif model == 'squeezenet':\n",
    "        logits = nets.SqueezeNet(inputs, is_training=True, classes=7)\n",
    "        middles = logits.get_outputs()[-3]\n",
    "\n",
    "    Z1 = tf.contrib.layers.flatten(middles)\n",
    "    # FULLY-CONNECTED \n",
    "    Z2 = tf.contrib.layers.fully_connected(Z1, 120)\n",
    "    # FULLY-CONNECTED \n",
    "    Y_hat = tf.identity(tf.contrib.layers.fully_connected(Z2, 7, activation_fn = tf.nn.softmax), name = 'Y_hat')\n",
    "    return Y_hat, logits"
   ]
  },
  {
   "cell_type": "code",
   "execution_count": 15,
   "metadata": {},
   "outputs": [],
   "source": [
    "\n",
    "def compute_loss(outputs, Y_hat, class_weights):\n",
    "\n",
    "    weights = tf.reduce_sum(class_weights * outputs, axis=1)\n",
    "\n",
    "    # loss function applied to the last layer\n",
    "    # train on the loss (Adam Optimizer is used)\n",
    "\n",
    "    loss = tf.losses.softmax_cross_entropy(outputs, Y_hat)\n",
    "    weighted_loss = tf.reduce_mean(loss*weights)\n",
    "    return weighted_loss\n",
    "\n",
    "\n",
    "\n",
    "def optimizer(learning_rate, weighted_loss):\n",
    "    train = tf.train.AdamOptimizer(learning_rate).minimize(weighted_loss)\n",
    "    return train\n",
    "\n",
    "\n",
    "\n",
    "# for measuring accuracy after forward pass\n",
    "def get_acc(Y_hat, outputs):\n",
    "    predictions = tf.argmax(Y_hat, 1)\n",
    "    correct_pred = tf.cast(tf.equal(predictions, tf.argmax(outputs, 1)),tf.float32)\n",
    "    accuracy = tf.reduce_mean(correct_pred, name='accuracy')\n",
    "    return prediction, accuracy"
   ]
  },
  {
   "cell_type": "code",
   "execution_count": 29,
   "metadata": {},
   "outputs": [],
   "source": [
    "def train_model(X_train, Y_train, X_dev, Y_dev, model, class_weights, learning_rate, batch_size, num_epochs, ts, print_loss = True):\n",
    "    tf.reset_default_graph()\n",
    "    n_y = Y_train.shape[1]\n",
    "    m_train, n_H0, n_W0, n_C0 = X_train.shape\n",
    "    num_batches = m_train//batch_size + 1\n",
    "    \n",
    "    losses = []\n",
    "    inputs, outputs = create_placeholders(n_H0,n_W0,n_C0,n_y)\n",
    "    Y_hat, logits = forward_prop(model, inputs)\n",
    "    weighted_loss = compute_loss(outputs, Y_hat, class_weights)\n",
    "    train = optimizer(learning_rate, weighted_loss)\n",
    "    init = tf.global_variables_initializer()\n",
    "    \n",
    "\n",
    "    with tf.Session() as sess:    \n",
    "        # Initializing the variables\n",
    "        sess.run(init)\n",
    "\n",
    "        # Loading the parameters\n",
    "        sess.run(logits.pretrained())\n",
    "\n",
    "        for epoch in range(num_epochs):\n",
    "            batch_loss = 0\n",
    "            full_batch = range(m_train)\n",
    "            for batch in range(num_batches):\n",
    "                try:\n",
    "                    batch_index = np.random.choice(full_batch, size=batch_size, replace = False)\n",
    "                    full_batch = np.array(list(set(full_batch) - set(batch_index)))\n",
    "                except ValueError:\n",
    "                    batch_index = full_batch\n",
    "                X_train_batch = X_train[batch_index]\n",
    "                Y_train_batch = Y_train[batch_index]\n",
    "                sess.run(train, feed_dict = {inputs: X_train_batch, outputs: Y_train_batch})\n",
    "                temp_loss = sess.run(weighted_loss, feed_dict ={inputs: X_train_batch, outputs: Y_train_batch})\n",
    "                batch_loss += temp_loss/num_batches\n",
    "            losses.append(batch_loss)\n",
    "            if print_loss:\n",
    "                print('Loss after epoch {:2d}: {:5f}'.format(epoch+1, batch_loss))\n",
    "        \n",
    "        predictions = tf.identity(tf.argmax(Y_hat, 1), name = 'predictions')\n",
    "        \n",
    "        \n",
    "        Y_train_preds = np.empty(shape = m_train)\n",
    "        for batch in range(num_batches):\n",
    "            if batch != num_batches - 1:\n",
    "                batch_index = range(batch*batch_size, (batch+1)*batch_size)\n",
    "            else:\n",
    "                batch_index = range(batch*batch_size,m_train)\n",
    "            X_train_batch = X_train[batch_index]\n",
    "            Y_train_batch_preds = sess.run(predictions, feed_dict ={inputs: X_train_batch})\n",
    "            Y_train_preds[batch_index] = Y_train_batch_preds\n",
    "            #print('Train batch {} completed'.format(batch+1))\n",
    "        \n",
    "        \n",
    "        m_dev = X_dev.shape[0]\n",
    "        num_batches = m_dev//batch_size + 1\n",
    "        \n",
    "        Y_dev_preds = np.empty(shape = m_dev)\n",
    "        for batch in range(num_batches):\n",
    "            if batch != num_batches - 1:\n",
    "                batch_index = range(batch*batch_size, (batch+1)*batch_size)\n",
    "            else:\n",
    "                batch_index = range(batch*batch_size,m_dev)\n",
    "            X_dev_batch = X_dev[batch_index]\n",
    "            Y_dev_batch_preds = sess.run(predictions, feed_dict ={inputs: X_dev_batch})\n",
    "            Y_dev_preds[batch_index] = Y_dev_batch_preds\n",
    "            #print('Dev batch {} completed'.format(batch+1))\n",
    "        \n",
    "        #Y_train_preds = get_preds(X_train, model, batch_size, sess)\n",
    "        #Y_dev_preds = get_preds(X_dev, model, batch_size, sess)\n",
    "        \n",
    "        \n",
    "        \n",
    "        inputs_dict = {'inputs_ph': inputs, 'outputs_ph': outputs}\n",
    "        outputs_dict = {'predictions': predictions}\n",
    "        tf.saved_model.simple_save(sess, model+'-'+ts, inputs_dict, outputs_dict)\n",
    "    \n",
    "    return Y_train_preds, Y_dev_preds, losses"
   ]
  },
  {
   "cell_type": "code",
   "execution_count": 30,
   "metadata": {},
   "outputs": [
    {
     "name": "stdout",
     "output_type": "stream",
     "text": [
      "Loss after epoch  1: 0.660302\n",
      "Loss after epoch  2: 0.656154\n",
      "Loss after epoch  3: 0.645418\n",
      "Loss after epoch  4: 0.630980\n",
      "Loss after epoch  5: 0.620314\n",
      "Loss after epoch  6: 0.594571\n",
      "Loss after epoch  7: 0.582182\n",
      "Loss after epoch  8: 0.576138\n",
      "Loss after epoch  9: 0.572625\n",
      "Loss after epoch 10: 0.569114\n",
      "Loss after epoch 11: 0.566578\n",
      "Loss after epoch 12: 0.559319\n",
      "Loss after epoch 13: 0.545564\n",
      "Loss after epoch 14: 0.539470\n",
      "Loss after epoch 15: 0.527835\n",
      "Loss after epoch 16: 0.508846\n",
      "WARNING:tensorflow:From /scratch/user/pdwarkanath/.conda/envs/myenv3/lib/python3.6/site-packages/tensorflow/python/saved_model/simple_save.py:85: calling SavedModelBuilder.add_meta_graph_and_variables (from tensorflow.python.saved_model.builder_impl) with legacy_init_op is deprecated and will be removed in a future version.\n",
      "Instructions for updating:\n",
      "Pass your op to the equivalent parameter main_op instead.\n",
      "INFO:tensorflow:Assets added to graph.\n",
      "INFO:tensorflow:No assets to write.\n",
      "INFO:tensorflow:SavedModel written to: resnet50-201811220231/saved_model.pb\n"
     ]
    }
   ],
   "source": [
    "model = 'resnet50'\n",
    "learning_rate=2e-5\n",
    "batch_size = 32\n",
    "num_epochs = 16\n",
    "ts = time.strftime('%Y%m%d%H%M')\n",
    "\n",
    "Y_train_preds, Y_dev_preds, losses = train_model(X_train, Y_train, X_dev, Y_dev, model, class_weights, learning_rate, batch_size, num_epochs, ts)"
   ]
  },
  {
   "cell_type": "code",
   "execution_count": 31,
   "metadata": {},
   "outputs": [],
   "source": [
    "def plot_losses(model, losses, learning_rate):\n",
    "    losses = np.squeeze(losses)\n",
    "    num_epochs = len(losses)\n",
    "    plot_title = \"Learning rate =\" + str(learning_rate)\n",
    "    \n",
    "    fig, ax = plt.subplots(figsize=(8,6))\n",
    "    ax.plot(losses)\n",
    "    ax.set(title = plot_title, xlabel = 'Epochs', ylabel ='Loss', xlim = (-1,num_epochs+1))\n",
    "    \n",
    "    fig.savefig(model+'TrainingLoss.png')\n",
    "    plt.show()"
   ]
  },
  {
   "cell_type": "code",
   "execution_count": 32,
   "metadata": {},
   "outputs": [
    {
     "data": {
      "image/png": "[encoded data removed]",
      "text/plain": [
       "<Figure size 576x432 with 1 Axes>"
      ]
     },
     "metadata": {
      "needs_background": "light"
     },
     "output_type": "display_data"
    }
   ],
   "source": [
    "plot_losses(model, losses, learning_rate)"
   ]
  },
  {
   "cell_type": "code",
   "execution_count": 33,
   "metadata": {},
   "outputs": [],
   "source": [
    "def get_predictions(X, saved_model_loc, batch_size = 32):\n",
    "    graph = tf.get_default_graph()\n",
    "    with tf.Session(graph = graph) as sess:\n",
    "        # Restore saved values\n",
    "        \n",
    "        tf.saved_model.loader.load(sess, [tag_constants.SERVING], saved_model_loc)\n",
    "        \n",
    "        # Get restored placeholders\n",
    "        inputs = graph.get_tensor_by_name('inputs_ph:0')\n",
    "\n",
    "        # Get restored model output\n",
    "        predictions = graph.get_tensor_by_name('predictions:0')\n",
    "\n",
    "        m = X.shape[0]\n",
    "        num_batches = m//batch_size + 1\n",
    "\n",
    "        Y_preds = np.empty(shape = m)\n",
    "        \n",
    "        for batch in range(num_batches):\n",
    "                if batch != num_batches - 1:\n",
    "                    batch_index = range(batch*batch_size, (batch+1)*batch_size)\n",
    "                else:\n",
    "                    batch_index = range(batch*batch_size,m)\n",
    "                X_batch = X[batch_index]\n",
    "                Y_batch_preds = sess.run(predictions, feed_dict ={inputs: X_batch})\n",
    "                Y_preds[batch_index] = Y_batch_preds\n",
    "    return Y_preds"
   ]
  },
  {
   "cell_type": "code",
   "execution_count": 35,
   "metadata": {},
   "outputs": [
    {
     "name": "stdout",
     "output_type": "stream",
     "text": [
      "INFO:tensorflow:Restoring parameters from resnet50-201811220231/variables/variables\n"
     ]
    }
   ],
   "source": [
    "saved_model_loc = model+'-'+ts\n",
    "\n",
    "Y_train_preds_saved = get_predictions(X_train, saved_model_loc)"
   ]
  },
  {
   "cell_type": "code",
   "execution_count": 36,
   "metadata": {},
   "outputs": [
    {
     "data": {
      "text/plain": [
       "array([[ 1742,     0,     0,     0,     0,     0,     0],\n",
       "       [    0, 12414,     0,     0,     0,     0,     0],\n",
       "       [    0,     0,   921,     0,     0,     0,     0],\n",
       "       [    0,     0,     0,  1194,     0,     0,     0],\n",
       "       [    0,     0,     0,     0,  1928,     0,     0],\n",
       "       [    0,     0,     0,     0,     0,  1026,     0],\n",
       "       [    0,     0,     0,     0,     0,     0,  1241]])"
      ]
     },
     "execution_count": 36,
     "metadata": {},
     "output_type": "execute_result"
    }
   ],
   "source": [
    "# Check if saved and original predictions match\n",
    "\n",
    "confusion_matrix(Y_train_preds_saved, Y_train_preds)"
   ]
  },
  {
   "cell_type": "code",
   "execution_count": 37,
   "metadata": {},
   "outputs": [
    {
     "data": {
      "text/plain": [
       "{0.0, 1.0, 2.0, 3.0, 4.0, 5.0, 6.0}"
      ]
     },
     "execution_count": 37,
     "metadata": {},
     "output_type": "execute_result"
    }
   ],
   "source": [
    "set(Y_train_preds)"
   ]
  },
  {
   "cell_type": "code",
   "execution_count": 38,
   "metadata": {},
   "outputs": [],
   "source": [
    "Y_train_vec = np.argmax(Y_train, 1)"
   ]
  },
  {
   "cell_type": "code",
   "execution_count": 39,
   "metadata": {},
   "outputs": [
    {
     "data": {
      "text/plain": [
       "array([1, 1, 0, ..., 0, 1, 2])"
      ]
     },
     "execution_count": 39,
     "metadata": {},
     "output_type": "execute_result"
    }
   ],
   "source": [
    "Y_train_vec"
   ]
  },
  {
   "cell_type": "code",
   "execution_count": 40,
   "metadata": {},
   "outputs": [],
   "source": [
    "def get_metrics(actuals, preds):\n",
    "    accuracy = np.mean((actuals == preds).astype(int))\n",
    "    cm = confusion_matrix(actuals, preds)\n",
    "    diag = np.diagonal(cm)\n",
    "    vert_sum = np.sum(cm, axis = 0)\n",
    "    hor_sum = np.sum(cm, axis = 1)\n",
    "    precision = np.nanmean(diag/vert_sum)\n",
    "    recall = np.nanmean(diag/hor_sum)\n",
    "    f1score = 2*precision*recall/(precision+recall)\n",
    "    \n",
    "    metrics = {'accuracy': accuracy,'confusion_matrix': cm, 'precision':precision, 'recall': recall, 'f1score': f1score}\n",
    "    return metrics"
   ]
  },
  {
   "cell_type": "code",
   "execution_count": 41,
   "metadata": {},
   "outputs": [],
   "source": [
    "train_metrics = get_metrics(Y_train_vec, Y_train_preds_saved)"
   ]
  },
  {
   "cell_type": "code",
   "execution_count": 42,
   "metadata": {},
   "outputs": [
    {
     "data": {
      "text/plain": [
       "0.9567086875794"
      ]
     },
     "execution_count": 42,
     "metadata": {},
     "output_type": "execute_result"
    }
   ],
   "source": [
    "train_metrics['accuracy']"
   ]
  },
  {
   "cell_type": "code",
   "execution_count": 43,
   "metadata": {},
   "outputs": [
    {
     "data": {
      "text/plain": [
       "array([[ 1562,   372,     4,     7,    49,     0,     3],\n",
       "       [  153, 11875,    10,     1,    36,     2,     8],\n",
       "       [    2,     4,   901,     6,     5,     0,     1],\n",
       "       [    0,    15,     0,  1160,     6,     0,     0],\n",
       "       [   20,    89,     6,    20,  1832,     2,     1],\n",
       "       [    0,    11,     0,     0,     0,  1022,     0],\n",
       "       [    5,    48,     0,     0,     0,     0,  1228]])"
      ]
     },
     "execution_count": 43,
     "metadata": {},
     "output_type": "execute_result"
    }
   ],
   "source": [
    "train_metrics['confusion_matrix']"
   ]
  },
  {
   "cell_type": "code",
   "execution_count": 44,
   "metadata": {},
   "outputs": [
    {
     "data": {
      "text/plain": [
       "0.9626991349640226"
      ]
     },
     "execution_count": 44,
     "metadata": {},
     "output_type": "execute_result"
    }
   ],
   "source": [
    "train_metrics['precision']"
   ]
  },
  {
   "cell_type": "code",
   "execution_count": 45,
   "metadata": {},
   "outputs": [
    {
     "data": {
      "text/plain": [
       "0.9436221448369039"
      ]
     },
     "execution_count": 45,
     "metadata": {},
     "output_type": "execute_result"
    }
   ],
   "source": [
    "train_metrics['recall']"
   ]
  },
  {
   "cell_type": "code",
   "execution_count": 46,
   "metadata": {},
   "outputs": [],
   "source": [
    "Y_dev_vec = np.argmax(Y_dev, axis = 1)"
   ]
  },
  {
   "cell_type": "code",
   "execution_count": 47,
   "metadata": {},
   "outputs": [
    {
     "data": {
      "text/plain": [
       "array([1, 1, 1, ..., 1, 1, 1])"
      ]
     },
     "execution_count": 47,
     "metadata": {},
     "output_type": "execute_result"
    }
   ],
   "source": [
    "Y_dev_vec"
   ]
  },
  {
   "cell_type": "code",
   "execution_count": 48,
   "metadata": {},
   "outputs": [
    {
     "name": "stdout",
     "output_type": "stream",
     "text": [
      "INFO:tensorflow:Restoring parameters from resnet50-201811220231/variables/variables\n"
     ]
    }
   ],
   "source": [
    "Y_dev_preds_saved = get_predictions(X_dev, saved_model_loc)"
   ]
  },
  {
   "cell_type": "code",
   "execution_count": 49,
   "metadata": {},
   "outputs": [
    {
     "data": {
      "text/plain": [
       "array([[ 197,    0,    0,    0,    0,    0,    0],\n",
       "       [   0, 1362,    0,    0,    0,    0,    0],\n",
       "       [   0,    0,   96,    0,    0,    0,    0],\n",
       "       [   0,    0,    0,  139,    0,    0,    0],\n",
       "       [   0,    0,    0,    0,  227,    0,    0],\n",
       "       [   0,    0,    0,    0,    0,  117,    0],\n",
       "       [   0,    0,    0,    0,    0,    0,  136]])"
      ]
     },
     "execution_count": 49,
     "metadata": {},
     "output_type": "execute_result"
    }
   ],
   "source": [
    "# Check if saved and original predictions match\n",
    "\n",
    "confusion_matrix(Y_dev_preds_saved, Y_dev_preds)"
   ]
  },
  {
   "cell_type": "code",
   "execution_count": 50,
   "metadata": {},
   "outputs": [],
   "source": [
    "dev_metrics = get_metrics(Y_dev_vec, Y_dev_preds_saved)"
   ]
  },
  {
   "cell_type": "code",
   "execution_count": 51,
   "metadata": {},
   "outputs": [
    {
     "data": {
      "text/plain": [
       "0.8641160949868074"
      ]
     },
     "execution_count": 51,
     "metadata": {},
     "output_type": "execute_result"
    }
   ],
   "source": [
    "dev_metrics['accuracy']"
   ]
  },
  {
   "cell_type": "code",
   "execution_count": 52,
   "metadata": {},
   "outputs": [
    {
     "data": {
      "text/plain": [
       "array([[ 131,   64,    1,    8,   22,    1,    2],\n",
       "       [  37, 1252,   12,    4,   17,    0,    3],\n",
       "       [   4,    3,   77,   12,    6,    2,    5],\n",
       "       [   3,    3,    2,  102,   14,    3,    0],\n",
       "       [  20,   22,    3,   13,  168,    0,    2],\n",
       "       [   0,    6,    0,    0,    0,  111,    0],\n",
       "       [   2,   12,    1,    0,    0,    0,  124]])"
      ]
     },
     "execution_count": 52,
     "metadata": {},
     "output_type": "execute_result"
    }
   ],
   "source": [
    "dev_metrics['confusion_matrix']"
   ]
  },
  {
   "cell_type": "code",
   "execution_count": 53,
   "metadata": {},
   "outputs": [
    {
     "data": {
      "text/plain": [
       "0.8172397256605585"
      ]
     },
     "execution_count": 53,
     "metadata": {},
     "output_type": "execute_result"
    }
   ],
   "source": [
    "dev_metrics['precision']"
   ]
  },
  {
   "cell_type": "code",
   "execution_count": 54,
   "metadata": {},
   "outputs": [
    {
     "data": {
      "text/plain": [
       "0.800596581669754"
      ]
     },
     "execution_count": 54,
     "metadata": {},
     "output_type": "execute_result"
    }
   ],
   "source": [
    "dev_metrics['recall']"
   ]
  },
  {
   "cell_type": "code",
   "execution_count": 55,
   "metadata": {},
   "outputs": [
    {
     "data": {
      "text/plain": [
       "0.808832547278205"
      ]
     },
     "execution_count": 55,
     "metadata": {},
     "output_type": "execute_result"
    }
   ],
   "source": [
    "dev_metrics['f1score']"
   ]
  },
  {
   "cell_type": "code",
   "execution_count": 17,
   "metadata": {},
   "outputs": [
    {
     "name": "stdout",
     "output_type": "stream",
     "text": [
      "Loss after epoch  1: 0.611496\n",
      "Loss after epoch  2: 0.592710\n",
      "Loss after epoch  3: 0.592802\n",
      "Loss after epoch  4: 0.592825\n",
      "Loss after epoch  5: 0.592232\n",
      "Loss after epoch  6: 0.592619\n",
      "Loss after epoch  7: 0.592703\n",
      "Loss after epoch  8: 0.592967\n",
      "Loss after epoch  9: 0.592621\n",
      "Loss after epoch 10: 0.592715\n",
      "Loss after epoch 11: 0.592791\n",
      "Loss after epoch 12: 0.592871\n"
     ]
    }
   ],
   "source": [
    "model = 'squeezenet'\n",
    "learning_rate=2e-5\n",
    "batch_size = 32\n",
    "num_epochs = 12\n",
    "\n",
    "Y_train_preds_sq, Y_dev_preds_sq, losses_sq = train_model(X_train, Y_train, X_dev, Y_dev, model, class_weights, learning_rate, batch_size, num_epochs=12)"
   ]
  },
  {
   "cell_type": "code",
   "execution_count": 21,
   "metadata": {},
   "outputs": [
    {
     "data": {
      "image/png": "[encoded data removed]",
      "text/plain": [
       "<Figure size 576x432 with 1 Axes>"
      ]
     },
     "metadata": {
      "needs_background": "light"
     },
     "output_type": "display_data"
    }
   ],
   "source": [
    "plot_losses(model, losses_sq, learning_rate)"
   ]
  },
  {
   "cell_type": "code",
   "execution_count": 22,
   "metadata": {},
   "outputs": [],
   "source": [
    "train_metrics_sq = get_metrics(Y_train_vec, Y_train_preds_sq)"
   ]
  },
  {
   "cell_type": "code",
   "execution_count": 23,
   "metadata": {},
   "outputs": [
    {
     "data": {
      "text/plain": [
       "{'accuracy': 0.5904915469559269,\n",
       " 'confusion_matrix': array([[    0,  1997,     0,     0,     0,     0,     0],\n",
       "        [    0, 12085,     0,     0,     0,     0,     0],\n",
       "        [    0,   919,     0,     0,     0,     0,     0],\n",
       "        [    0,  1181,     0,     0,     0,     0,     0],\n",
       "        [    0,  1970,     0,     0,     0,     0,     0],\n",
       "        [    0,  1033,     0,     0,     0,     0,     0],\n",
       "        [    0,  1281,     0,     0,     0,     0,     0]]),\n",
       " 'precision': 0.5904915469559269,\n",
       " 'recall': 0.14285714285714285,\n",
       " 'f1score': 0.2300568241307431}"
      ]
     },
     "execution_count": 23,
     "metadata": {},
     "output_type": "execute_result"
    }
   ],
   "source": [
    "train_metrics_sq"
   ]
  },
  {
   "cell_type": "code",
   "execution_count": 25,
   "metadata": {},
   "outputs": [],
   "source": [
    "dev_metrics_sq = get_metrics(Y_dev_vec, Y_dev_preds_sq)"
   ]
  },
  {
   "cell_type": "code",
   "execution_count": 26,
   "metadata": {},
   "outputs": [
    {
     "data": {
      "text/plain": [
       "{'accuracy': 0.5826737027264732,\n",
       " 'confusion_matrix': array([[   0,  229,    0,    0,    0,    0,    0],\n",
       "        [   0, 1325,    0,    0,    0,    0,    0],\n",
       "        [   0,  109,    0,    0,    0,    0,    0],\n",
       "        [   0,  127,    0,    0,    0,    0,    0],\n",
       "        [   0,  228,    0,    0,    0,    0,    0],\n",
       "        [   0,  117,    0,    0,    0,    0,    0],\n",
       "        [   0,  139,    0,    0,    0,    0,    0]]),\n",
       " 'precision': 0.5826737027264732,\n",
       " 'recall': 0.14285714285714285,\n",
       " 'f1score': 0.22945709585245477}"
      ]
     },
     "execution_count": 26,
     "metadata": {},
     "output_type": "execute_result"
    }
   ],
   "source": [
    "dev_metrics_sq"
   ]
  },
  {
   "cell_type": "code",
   "execution_count": null,
   "metadata": {},
   "outputs": [],
   "source": []
  }
 ],
 "metadata": {
  "kernelspec": {
   "display_name": "Python 3",
   "language": "python",
   "name": "python3"
  },
  "language_info": {
   "codemirror_mode": {
    "name": "ipython",
    "version": 3
   },
   "file_extension": ".py",
   "mimetype": "text/x-python",
   "name": "python",
   "nbconvert_exporter": "python",
   "pygments_lexer": "ipython3",
   "version": "3.6.6"
  }
 },
 "nbformat": 4,
 "nbformat_minor": 2
}
