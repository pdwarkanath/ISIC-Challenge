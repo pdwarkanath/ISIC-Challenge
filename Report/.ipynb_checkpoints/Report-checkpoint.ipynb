{
 "cells": [
  {
   "cell_type": "markdown",
   "metadata": {},
   "source": [
    "# Skin Cancer Classification Using Deep Learning"
   ]
  },
  {
   "cell_type": "markdown",
   "metadata": {},
   "source": [
    "## I. Introduction\n",
    "\n",
    "In the United States, 5 million new cases of skin cancer are diagnosed every year.[1] Of these, melanoma which is the deadliest accounts for over 9000.[2] The diagnosis via visual inspection by patients and dermatologists is accurate only about 60% of the time.[3] Moreover, the shortage of dermatologists per capita has abetted the need for computer-aided methods to detect skin cancer.\n",
    "\n",
    "The International Skin Imaging Collaboration (ISIC) has aggregated a large amount of publicly accessible dermoscopy images labeled with ground truth data. The ISIC 2018 challenge was divided into 3 tasks - Task1: Lesion Segmentation, Task 2: Lesion Attribute Detection and Task 3: Disease Classification. This report focuses on Task 3 i.e. classification of images into one of 7 possible classes."
   ]
  },
  {
   "cell_type": "markdown",
   "metadata": {},
   "source": [
    "## II. Dataset\n",
    "\n",
    "There are 10,015 images in the labeled training dataset. Some sample images from the dataset and their labels are shown in Fig. 1. The labels are in a CSV file in the form of one-hot vectors. There are no missing labels and all images are classified into one of 7 classes:\n",
    "* Melanoma\n",
    "* Melanocytic nevus\n",
    "* Basal cell carcinoma\n",
    "* Actinic keratosis / Bowen’s disease (intraepithelial carcinoma)\n",
    "* Benign keratosis (solar lentigo / seborrheic keratosis / lichen planus-like keratosis)\n",
    "* Dermatofibroma\n",
    "* Vascular lesion"
   ]
  },
  {
   "cell_type": "markdown",
   "metadata": {},
   "source": [
    "<img src=\"Task3-Imgs.png\"></img>\n",
    "<p style=\"text-align: center;\"> Fig. 1: Sample Images from Task 3 Dataset with Labels </b></p>"
   ]
  },
  {
   "cell_type": "markdown",
   "metadata": {},
   "source": [
    "Evaluation metric for this task is the multi-class accuracy (MCA) i.e. the average of precision for all classes.\n",
    "\n",
    "$MCA = \\sum_{}^{n}\\frac{P_i}{n}$\n",
    "\n",
    "where $P_i$ is the precision of class $i$"
   ]
  },
  {
   "cell_type": "markdown",
   "metadata": {},
   "source": [
    "## III. Architecture"
   ]
  },
  {
   "cell_type": "markdown",
   "metadata": {},
   "source": [
    "## IV. Improving Performance\n",
    "\n",
    "Approximately 70% of the images belong to only one class (Melanocytic nevus). Hence, it is trivial to achieve around 70% accuracy by simply predicting all images to be of that class. That is obviously incorrect. In order to improve performance, we try several techniques such as data augmentation, oversampling low-frequency classes, weighted loss etc.\n",
    "\n",
    "<img src =\"Task3-DiseaseTypeFrequency.png\"><img>\n",
    "<p style=\"text-align: center;\"> Fig. 2: Distribution of classes in the training set </b></p>"
   ]
  },
  {
   "cell_type": "markdown",
   "metadata": {},
   "source": [
    "### A. Batch Normalization\n",
    "### B. Data Augmentation - Mirroring\n",
    "### C. Weighted Loss\n",
    "### D. Oversampling\n",
    "### E. Color Constancy"
   ]
  },
  {
   "cell_type": "markdown",
   "metadata": {},
   "source": [
    "## V. Results"
   ]
  },
  {
   "cell_type": "markdown",
   "metadata": {},
   "source": [
    "Technique | Training MCA | Validation MCA\n",
    "---|:---:|:---:\n",
    "Baseline | 93.67% | 62.74%\n",
    "Batch Normalization | 70% | 70%\n",
    "Data Augmentation - Mirroring | 70% | 70%\n",
    "Weighted Loss | 70% | 70%\n",
    "Oversampling | 70% | 70%\n",
    "Color Constancy | 70% | 70%"
   ]
  },
  {
   "cell_type": "markdown",
   "metadata": {},
   "source": [
    "## VI. Conclusion and Discussion"
   ]
  },
  {
   "cell_type": "markdown",
   "metadata": {},
   "source": [
    "## References"
   ]
  }
 ],
 "metadata": {
  "kernelspec": {
   "display_name": "Python 3",
   "language": "python",
   "name": "python3"
  },
  "language_info": {
   "codemirror_mode": {
    "name": "ipython",
    "version": 3
   },
   "file_extension": ".py",
   "mimetype": "text/x-python",
   "name": "python",
   "nbconvert_exporter": "python",
   "pygments_lexer": "ipython3",
   "version": "3.6.5"
  }
 },
 "nbformat": 4,
 "nbformat_minor": 2
}
