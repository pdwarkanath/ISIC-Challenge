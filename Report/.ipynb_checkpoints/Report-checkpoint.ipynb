{
 "cells": [
  {
   "cell_type": "markdown",
   "metadata": {},
   "source": [
    "# Skin Cancer Classification Using Deep Learning"
   ]
  },
  {
   "cell_type": "markdown",
   "metadata": {},
   "source": [
    "## I. Introduction\n",
    "More than 5 million people in the United States are diagnosed with skin cancer every year [1]. As many of these diseases occur on the skin surface, visual examination techniques are appealing for their detection and diagnosis. Recent techniques such as dermoscopy magnify the skin and eliminate its surface reflection, allowing for visual inspection of skin disease images with improved diagnostic accuracy [2]. Despite so, skin disease classification remains a difficult task even for domain experts, not to mention automated algorithms. \n",
    "\n",
    "The International Skin Imaging Collaboration (ISIC) has aggregated a large amount of publicly accessible dermoscopy images. Currently, the ISIC archive contains over 13,000 dermoscopy images collected from many different clinical centers, ensuring a large and representative sample set [3], [4]. Moreover, ISIC has held competitions to perform segmentation and classification on these datasets annually from 2016. For the current year, the 2018 ISIC challenge consists of 3 tasks: Task 1 to segment lesion regions; Task 2 to segment different attributes of lesion regions; and Task 3 to classify skin images from different disease classes.\n",
    "\n",
    "Recently, deep neural networks have been shown to accomplish these tasks with significant performance improvements over traditional image processing methods. For example, recent deep architectures such as UNet [5], SegNet [6], ReSeg [7], MaskRCNN [8], and PSPNet [9] have achieved considerable performance progress in image segmentation. Architectures such as ResNet [10], GoogleNet [11], InceptionV3 [12], VGG [13], and NASNet [14], have achieved exceptional performance in image classification. Deep models can also be enhanced with particular robustness to real-world image degradations such as low resolution and noise [15], [16], [17]. We participated in Tasks 1 and 3 of the ISIC 2018 challenge to segment lesion regions and classify skin images with given disease labels, respectively. We adopt the latest promising deep learning-based segmentation or classification models, assisted by careful domain-specific learning and tuning procedures. For Task 1, we develop a two-stage coarse-to-fine pipeine: the first stage identifies a bounding box that encompasses the lesion region; the second stage then focuses on this candidate wound lesion for refined segmentation. For Task 3, we utilize a treestructured cascade of deep classifiers, that first separate the difficult classes (MEL, NV, and BKL) from other easier ones, and then continue with more specialized classifiers for either group. We detail the experiments and observations below."
   ]
  },
  {
   "cell_type": "markdown",
   "metadata": {},
   "source": [
    "## II. TASK 1: SKIN LESION SEGMENTATION\n",
    "\n",
    "### A. Backbone Architecture\n",
    "\n",
    "To accomplish the task of segmenting skin disease lesion, we firstly benchmarked multiple existing deep architectures that have shown state-of-the-art performance in image segmentation: UNet [5], SegNet [6], ReSeg [7], MaskRCNN [8], and PSPNet [9]. We performed extensive experiments and identified PSPNet to be the backbone for our Task 1 pipeline. \n",
    "\n",
    "### B. Dividing Patches v.s. Resizing Images: Which is Better? \n",
    "\n",
    "Due to the large resolution of ISIC images, we consider two practical strategies to fit the training process into GPU memory: i) dividing an image into smaller patches and performing segmentation on each patch, then aggregating them back; ii) resizing an image into a lower resolution and feeding the downscaled image for segmentation. While our initial hypothesis was in more favor of the former since it could better"
   ]
  },
  {
   "cell_type": "code",
   "execution_count": null,
   "metadata": {},
   "outputs": [],
   "source": []
  }
 ],
 "metadata": {
  "kernelspec": {
   "display_name": "Python 3",
   "language": "python",
   "name": "python3"
  },
  "language_info": {
   "codemirror_mode": {
    "name": "ipython",
    "version": 3
   },
   "file_extension": ".py",
   "mimetype": "text/x-python",
   "name": "python",
   "nbconvert_exporter": "python",
   "pygments_lexer": "ipython3",
   "version": "3.6.5"
  }
 },
 "nbformat": 4,
 "nbformat_minor": 2
}
