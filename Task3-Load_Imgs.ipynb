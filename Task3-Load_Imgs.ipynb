{
 "cells": [
  {
   "cell_type": "code",
   "execution_count": 1,
   "metadata": {},
   "outputs": [],
   "source": [
    "import numpy as np\n",
    "import pandas as pd\n",
    "import glob\n",
    "import matplotlib.pyplot as plt\n",
    "import skimage.transform"
   ]
  },
  {
   "cell_type": "code",
   "execution_count": 3,
   "metadata": {},
   "outputs": [],
   "source": [
    "def get_filelist(img_loc):\n",
    "    filelist = glob.glob(img_loc+'*.jpg')\n",
    "    filelist.sort()\n",
    "    return filelist"
   ]
  },
  {
   "cell_type": "code",
   "execution_count": 4,
   "metadata": {},
   "outputs": [],
   "source": [
    "img_loc = '../ISIC2018_Task3_Training_Input/'\n",
    "\n",
    "filelist = get_filelist(img_loc)"
   ]
  },
  {
   "cell_type": "code",
   "execution_count": 8,
   "metadata": {},
   "outputs": [],
   "source": [
    "# Load images as arrays\n",
    "\n",
    "def get_X_orig(filelist, input_shape):\n",
    "    \n",
    "    bs, n_H, n_W, n_C = input_shape\n",
    "    X_orig = np.empty([bs, n_H, n_W, n_C])\n",
    "\n",
    "    for i, fname in enumerate(filelist[:bs]):\n",
    "        img = plt.imread(fname)\n",
    "        img = skimage.transform.resize(img, (n_H,n_W), mode='constant')\n",
    "        X_orig[i] = img\n",
    "        if i%100 == 99 or i == bs-1:\n",
    "            print('{} files loaded'.format(i+1))\n",
    "    \n",
    "    return X_orig"
   ]
  },
  {
   "cell_type": "code",
   "execution_count": 9,
   "metadata": {},
   "outputs": [
    {
     "name": "stderr",
     "output_type": "stream",
     "text": [
      "/scratch/user/pdwarkanath/.conda/envs/myenv3/lib/python3.6/site-packages/skimage/transform/_warps.py:110: UserWarning: Anti-aliasing will be enabled by default in skimage 0.15 to avoid aliasing artifacts when down-sampling images.\n",
      "  warn(\"Anti-aliasing will be enabled by default in skimage 0.15 to \"\n"
     ]
    },
    {
     "name": "stdout",
     "output_type": "stream",
     "text": [
      "100 files loaded\n",
      "200 files loaded\n",
      "300 files loaded\n",
      "400 files loaded\n",
      "500 files loaded\n",
      "600 files loaded\n",
      "700 files loaded\n",
      "800 files loaded\n",
      "900 files loaded\n",
      "1000 files loaded\n",
      "1100 files loaded\n",
      "1200 files loaded\n",
      "1300 files loaded\n",
      "1400 files loaded\n",
      "1500 files loaded\n",
      "1600 files loaded\n",
      "1700 files loaded\n",
      "1800 files loaded\n",
      "1900 files loaded\n",
      "2000 files loaded\n",
      "2100 files loaded\n",
      "2200 files loaded\n",
      "2300 files loaded\n",
      "2400 files loaded\n",
      "2500 files loaded\n",
      "2600 files loaded\n",
      "2700 files loaded\n",
      "2800 files loaded\n",
      "2900 files loaded\n",
      "3000 files loaded\n",
      "3100 files loaded\n",
      "3200 files loaded\n",
      "3300 files loaded\n",
      "3400 files loaded\n",
      "3500 files loaded\n",
      "3600 files loaded\n",
      "3700 files loaded\n",
      "3800 files loaded\n",
      "3900 files loaded\n",
      "4000 files loaded\n",
      "4100 files loaded\n",
      "4200 files loaded\n",
      "4300 files loaded\n",
      "4400 files loaded\n",
      "4500 files loaded\n",
      "4600 files loaded\n",
      "4700 files loaded\n",
      "4800 files loaded\n",
      "4900 files loaded\n",
      "5000 files loaded\n",
      "5100 files loaded\n",
      "5200 files loaded\n",
      "5300 files loaded\n",
      "5400 files loaded\n",
      "5500 files loaded\n",
      "5600 files loaded\n",
      "5700 files loaded\n",
      "5800 files loaded\n",
      "5900 files loaded\n",
      "6000 files loaded\n",
      "6100 files loaded\n",
      "6200 files loaded\n",
      "6300 files loaded\n",
      "6400 files loaded\n",
      "6500 files loaded\n",
      "6600 files loaded\n",
      "6700 files loaded\n",
      "6800 files loaded\n",
      "6900 files loaded\n",
      "7000 files loaded\n",
      "7100 files loaded\n",
      "7200 files loaded\n",
      "7300 files loaded\n",
      "7400 files loaded\n",
      "7500 files loaded\n",
      "7600 files loaded\n",
      "7700 files loaded\n",
      "7800 files loaded\n",
      "7900 files loaded\n",
      "8000 files loaded\n",
      "8100 files loaded\n",
      "8200 files loaded\n",
      "8300 files loaded\n",
      "8400 files loaded\n",
      "8500 files loaded\n",
      "8600 files loaded\n",
      "8700 files loaded\n",
      "8800 files loaded\n",
      "8900 files loaded\n",
      "9000 files loaded\n",
      "9100 files loaded\n",
      "9200 files loaded\n",
      "9300 files loaded\n",
      "9400 files loaded\n",
      "9500 files loaded\n",
      "9600 files loaded\n",
      "9700 files loaded\n",
      "9800 files loaded\n",
      "9900 files loaded\n",
      "10000 files loaded\n",
      "10015 files loaded\n"
     ]
    }
   ],
   "source": [
    "bs = len(filelist)\n",
    "input_shape = [bs, 224, 224, 3]\n",
    "\n",
    "X_orig = get_X_orig(filelist, input_shape)"
   ]
  },
  {
   "cell_type": "code",
   "execution_count": 12,
   "metadata": {},
   "outputs": [],
   "source": [
    "def get_Y_orig(labels_loc):\n",
    "    Y_df = pd.read_csv(labels_loc)\n",
    "    Y_orig = np.array(Y_df.iloc[:,1:])\n",
    "    return Y_orig"
   ]
  },
  {
   "cell_type": "code",
   "execution_count": 21,
   "metadata": {},
   "outputs": [],
   "source": [
    "labels_loc = '../ISIC2018_Task3_Training_GroundTruth/ISIC2018_Task3_Training_GroundTruth.csv'\n",
    "\n",
    "Y_orig = get_Y_orig(labels_loc)"
   ]
  },
  {
   "cell_type": "code",
   "execution_count": 22,
   "metadata": {},
   "outputs": [],
   "source": [
    "def get_random_crops(filelist, input_shape, Y_orig, num_crops, label):\n",
    "    \n",
    "    #rc = random crom\n",
    "    \n",
    "    label_dict = {'MEL':0, 'NV':1, 'BCC': 2, 'AKIEC': 3, 'BKL': 4, 'DF': 5, 'VASC': 6}\n",
    "    label_num = label_dict[label]\n",
    "    Y_lst = []\n",
    "    bs, n_H, n_W, n_C = input_shape\n",
    "    bs_rc = (np.sum((Y_orig[:,label_num]==1).astype(int)))*num_crops\n",
    "    X_rc = np.empty([bs_rc, n_H, n_W, n_C])\n",
    "    dfrcloc = 0\n",
    "    for i, fname in enumerate(filelist[:bs]):\n",
    "        if Y_orig[i,label_num]:\n",
    "            img = plt.imread(fname)\n",
    "            for j in range(num_crops):\n",
    "                c = np.random.choice(range(-20,20),4)\n",
    "                img_cropped = img[50+c[0]:400+c[1],50+c[2]:550+c[3],:]\n",
    "                img_cropped = skimage.transform.resize(img, (n_H,n_W), mode='constant')\n",
    "                X_rc[dfrcloc] = img_cropped\n",
    "                Y_lst.append(Y_orig[i])\n",
    "                dfrcloc +=1\n",
    "    Y_rc = np.array(Y_lst)\n",
    "    return X_rc, Y_rc"
   ]
  },
  {
   "cell_type": "code",
   "execution_count": 23,
   "metadata": {},
   "outputs": [
    {
     "name": "stderr",
     "output_type": "stream",
     "text": [
      "/scratch/user/pdwarkanath/.conda/envs/myenv3/lib/python3.6/site-packages/skimage/transform/_warps.py:110: UserWarning: Anti-aliasing will be enabled by default in skimage 0.15 to avoid aliasing artifacts when down-sampling images.\n",
      "  warn(\"Anti-aliasing will be enabled by default in skimage 0.15 to \"\n"
     ]
    }
   ],
   "source": [
    "num_crops = 4\n",
    "\n",
    "X_DF_rc, Y_DF_rc = get_random_crops(filelist, input_shape, Y_orig, num_crops, label='DF')"
   ]
  },
  {
   "cell_type": "code",
   "execution_count": 24,
   "metadata": {},
   "outputs": [
    {
     "name": "stdout",
     "output_type": "stream",
     "text": [
      "(10015, 224, 224, 3)\n",
      "(10015, 7)\n",
      "(460, 224, 224, 3)\n",
      "(460, 7)\n"
     ]
    }
   ],
   "source": [
    "print(X_orig.shape)\n",
    "print(Y_orig.shape)\n",
    "print(X_DF_rc.shape)\n",
    "print(Y_DF_rc.shape)"
   ]
  },
  {
   "cell_type": "code",
   "execution_count": 25,
   "metadata": {},
   "outputs": [
    {
     "name": "stderr",
     "output_type": "stream",
     "text": [
      "/scratch/user/pdwarkanath/.conda/envs/myenv3/lib/python3.6/site-packages/skimage/transform/_warps.py:110: UserWarning: Anti-aliasing will be enabled by default in skimage 0.15 to avoid aliasing artifacts when down-sampling images.\n",
      "  warn(\"Anti-aliasing will be enabled by default in skimage 0.15 to \"\n"
     ]
    }
   ],
   "source": [
    "X_VASC_rc, Y_VASC_rc = get_random_crops(filelist, input_shape, Y_orig, num_crops, label='VASC')"
   ]
  },
  {
   "cell_type": "code",
   "execution_count": 26,
   "metadata": {},
   "outputs": [
    {
     "name": "stdout",
     "output_type": "stream",
     "text": [
      "(568, 224, 224, 3)\n",
      "(568, 7)\n"
     ]
    }
   ],
   "source": [
    "print(X_VASC_rc.shape)\n",
    "print(Y_VASC_rc.shape)"
   ]
  },
  {
   "cell_type": "code",
   "execution_count": 27,
   "metadata": {},
   "outputs": [],
   "source": [
    "def flip_vert(X_orig, Y_orig):\n",
    "    m, n_H0, n_W0, n_C0 = X_orig.shape\n",
    "    X_flip = X_orig[:,n_H0-1::-1,:,:]\n",
    "    Y_flip = Y_orig\n",
    "    return X_flip, Y_flip"
   ]
  },
  {
   "cell_type": "code",
   "execution_count": 35,
   "metadata": {},
   "outputs": [],
   "source": [
    "X_AKIEC = X_orig[Y_orig[:,3]==1,:]\n",
    "Y_AKIEC = Y_orig[Y_orig[:,3]==1,:]"
   ]
  },
  {
   "cell_type": "code",
   "execution_count": 36,
   "metadata": {},
   "outputs": [],
   "source": [
    "X_AKIEC_flip, Y_AKIEC_flip = flip_vert(X_AKIEC, Y_AKIEC)"
   ]
  },
  {
   "cell_type": "code",
   "execution_count": 37,
   "metadata": {},
   "outputs": [
    {
     "name": "stdout",
     "output_type": "stream",
     "text": [
      "(327, 7)\n"
     ]
    }
   ],
   "source": [
    "print(Y_AKIEC.shape)"
   ]
  },
  {
   "cell_type": "code",
   "execution_count": 38,
   "metadata": {},
   "outputs": [],
   "source": [
    "def flip_hor(X_orig, Y_orig):\n",
    "    m, n_H0, n_W0, n_C0 = X_orig.shape\n",
    "    X_flip = X_orig[:,:,n_W0-1::-1,:]\n",
    "    Y_flip = Y_orig\n",
    "    return X_flip, Y_flip"
   ]
  },
  {
   "cell_type": "code",
   "execution_count": 39,
   "metadata": {},
   "outputs": [],
   "source": [
    "X_orig_mirror, Y_orig_mirror = flip_hor(X_orig, Y_orig)\n",
    "X_VASC_mirror, Y_VASC_mirror = flip_hor(X_VASC_rc, Y_VASC_rc)\n",
    "X_DF_mirror, Y_DF_mirror = flip_hor(X_DF_rc, Y_DF_rc)\n",
    "X_AKIEC_flip_mirror, Y_AKIEC_flip_mirror = flip_hor(X_AKIEC_flip, Y_AKIEC_flip)"
   ]
  },
  {
   "cell_type": "code",
   "execution_count": 40,
   "metadata": {},
   "outputs": [],
   "source": [
    "X_final = np.vstack([X_orig, X_DF_rc, X_VASC_rc, X_AKIEC_flip, X_orig_mirror, X_VASC_mirror, X_DF_mirror, X_AKIEC_flip_mirror])\n",
    "Y_final = np.vstack([Y_orig, Y_DF_rc, Y_VASC_rc, Y_AKIEC_flip, Y_orig_mirror, Y_VASC_mirror, Y_DF_mirror, Y_AKIEC_flip_mirror])"
   ]
  },
  {
   "cell_type": "code",
   "execution_count": 41,
   "metadata": {},
   "outputs": [
    {
     "name": "stdout",
     "output_type": "stream",
     "text": [
      "(22740, 224, 224, 3)\n",
      "(22740, 7)\n"
     ]
    }
   ],
   "source": [
    "print(X_final.shape)\n",
    "print(Y_final.shape)"
   ]
  },
  {
   "cell_type": "code",
   "execution_count": 42,
   "metadata": {},
   "outputs": [],
   "source": [
    "X_final_file = 'X_final.npy'\n",
    "np.save(X_final_file, X_final)\n",
    "\n",
    "Y_final_file = 'Y_final.npy'\n",
    "np.save(Y_final_file, Y_final)\n",
    "#X_orig_inception_file = 'X_orig_inception.npy'\n",
    "#np.save(X_orig_inception_file, X_orig_inception)"
   ]
  },
  {
   "cell_type": "code",
   "execution_count": 2,
   "metadata": {},
   "outputs": [],
   "source": [
    "X_final_file = 'X_final.npy'\n",
    "X = np.load(X_final_file)"
   ]
  },
  {
   "cell_type": "code",
   "execution_count": 15,
   "metadata": {},
   "outputs": [],
   "source": [
    "colmins = np.min(np.min(X, axis = 1,keepdims =True), axis = 2, keepdims =True)"
   ]
  },
  {
   "cell_type": "code",
   "execution_count": 16,
   "metadata": {},
   "outputs": [
    {
     "data": {
      "text/plain": [
       "(22740, 1, 1, 3)"
      ]
     },
     "execution_count": 16,
     "metadata": {},
     "output_type": "execute_result"
    }
   ],
   "source": [
    "colmins.shape"
   ]
  },
  {
   "cell_type": "code",
   "execution_count": 18,
   "metadata": {},
   "outputs": [],
   "source": [
    "X_colcorr = X-colmins"
   ]
  },
  {
   "cell_type": "code",
   "execution_count": 23,
   "metadata": {},
   "outputs": [
    {
     "data": {
      "text/plain": [
       "array([[[0.38878989, 0.36769395, 0.36061049],\n",
       "        [0.36700211, 0.35849996, 0.34213154],\n",
       "        [0.37427158, 0.35836491, 0.34569171],\n",
       "        ...,\n",
       "        [0.39551821, 0.39559543, 0.39552727],\n",
       "        [0.39446998, 0.39948323, 0.39885548],\n",
       "        [0.39468975, 0.38943484, 0.39620004]],\n",
       "\n",
       "       [[0.36590699, 0.33059192, 0.3360391 ],\n",
       "        [0.37720745, 0.35730042, 0.35294493],\n",
       "        [0.38922944, 0.36806004, 0.37188563],\n",
       "        ...,\n",
       "        [0.38820466, 0.41144333, 0.41202606],\n",
       "        [0.38166767, 0.40444303, 0.38929353],\n",
       "        [0.38450912, 0.39435368, 0.38316014]],\n",
       "\n",
       "       [[0.35849434, 0.33065851, 0.33803052],\n",
       "        [0.37265437, 0.35213679, 0.35257541],\n",
       "        [0.38865859, 0.37048163, 0.36414785],\n",
       "        ...,\n",
       "        [0.39536346, 0.40255477, 0.40310093],\n",
       "        [0.39895396, 0.40018945, 0.3966446 ],\n",
       "        [0.38436281, 0.38413866, 0.38675939]],\n",
       "\n",
       "       ...,\n",
       "\n",
       "       [[0.30574917, 0.35555316, 0.29819522],\n",
       "        [0.31595232, 0.37002895, 0.31051639],\n",
       "        [0.32269251, 0.37894095, 0.31911984],\n",
       "        ...,\n",
       "        [0.31399028, 0.38392763, 0.31841705],\n",
       "        [0.31592856, 0.38082983, 0.33225697],\n",
       "        [0.29957608, 0.3655706 , 0.32989696]],\n",
       "\n",
       "       [[0.31891944, 0.35937469, 0.30222401],\n",
       "        [0.30803728, 0.35830426, 0.29715793],\n",
       "        [0.31243654, 0.35741672, 0.31640281],\n",
       "        ...,\n",
       "        [0.30118766, 0.37291354, 0.32622737],\n",
       "        [0.30800601, 0.37459921, 0.33784608],\n",
       "        [0.30978141, 0.3736357 , 0.33049063]],\n",
       "\n",
       "       [[0.31757766, 0.35177665, 0.28883804],\n",
       "        [0.3061659 , 0.3345854 , 0.28799207],\n",
       "        [0.31351885, 0.34576674, 0.29311443],\n",
       "        ...,\n",
       "        [0.31082621, 0.36533957, 0.30995992],\n",
       "        [0.30887042, 0.36968631, 0.31729817],\n",
       "        [0.3112073 , 0.37792304, 0.33827156]]])"
      ]
     },
     "execution_count": 23,
     "metadata": {},
     "output_type": "execute_result"
    }
   ],
   "source": [
    "X_colcorr[3]"
   ]
  },
  {
   "cell_type": "code",
   "execution_count": 25,
   "metadata": {},
   "outputs": [
    {
     "data": {
      "text/plain": [
       "array([[[0.4350981 , 0.10952381, 0.17475303]]])"
      ]
     },
     "execution_count": 25,
     "metadata": {},
     "output_type": "execute_result"
    }
   ],
   "source": [
    "colmins[3]"
   ]
  },
  {
   "cell_type": "code",
   "execution_count": null,
   "metadata": {},
   "outputs": [],
   "source": []
  }
 ],
 "metadata": {
  "kernelspec": {
   "display_name": "Python 3",
   "language": "python",
   "name": "python3"
  },
  "language_info": {
   "codemirror_mode": {
    "name": "ipython",
    "version": 3
   },
   "file_extension": ".py",
   "mimetype": "text/x-python",
   "name": "python",
   "nbconvert_exporter": "python",
   "pygments_lexer": "ipython3",
   "version": "3.6.6"
  }
 },
 "nbformat": 4,
 "nbformat_minor": 2
}
