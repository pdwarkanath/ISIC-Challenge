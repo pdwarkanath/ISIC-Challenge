{
 "cells": [
  {
   "cell_type": "code",
   "execution_count": 1,
   "metadata": {},
   "outputs": [],
   "source": [
    "import numpy as np\n",
    "import glob\n",
    "import matplotlib.pyplot as plt\n",
    "import skimage.transform"
   ]
  },
  {
   "cell_type": "code",
   "execution_count": 2,
   "metadata": {},
   "outputs": [],
   "source": [
    "def get_filelist(img_loc):\n",
    "    filelist = glob.glob(img_loc+'*.jpg')\n",
    "    filelist.sort()\n",
    "    return filelist"
   ]
  },
  {
   "cell_type": "code",
   "execution_count": 3,
   "metadata": {},
   "outputs": [],
   "source": [
    "img_loc = '../ISIC2018_Task3_Training_Input/'\n",
    "\n",
    "filelist = get_filelist(img_loc)"
   ]
  },
  {
   "cell_type": "code",
   "execution_count": 4,
   "metadata": {},
   "outputs": [],
   "source": [
    "# Load images as arrays\n",
    "\n",
    "bs = len(filelist)\n",
    "input_shape = [bs, 224, 224, 3]\n",
    "input_shape_inception = [bs, 299, 299, 3]\n",
    "\n",
    "def get_img_arrs(filelist, input_shape):\n",
    "    X_orig = np.empty(input_shape)\n",
    "    bs, n_H, n_W, n_C = input_shape\n",
    "    for i, fname in enumerate(filelist[:bs]):\n",
    "        img = plt.imread(fname)\n",
    "        img = skimage.transform.resize(img, (n_H,n_W), mode='constant')\n",
    "        X_orig[i] = img\n",
    "        if i%100 == 0 or i == bs-1:\n",
    "            print('{} files loaded'.format(i+1))\n",
    "    return X_orig"
   ]
  },
  {
   "cell_type": "code",
   "execution_count": 5,
   "metadata": {},
   "outputs": [
    {
     "name": "stderr",
     "output_type": "stream",
     "text": [
      "/scratch/user/pdwarkanath/.conda/envs/myenv3/lib/python3.6/site-packages/skimage/transform/_warps.py:110: UserWarning: Anti-aliasing will be enabled by default in skimage 0.15 to avoid aliasing artifacts when down-sampling images.\n",
      "  warn(\"Anti-aliasing will be enabled by default in skimage 0.15 to \"\n"
     ]
    },
    {
     "name": "stdout",
     "output_type": "stream",
     "text": [
      "1 files loaded\n",
      "101 files loaded\n",
      "201 files loaded\n",
      "301 files loaded\n",
      "401 files loaded\n",
      "501 files loaded\n",
      "601 files loaded\n",
      "701 files loaded\n",
      "801 files loaded\n",
      "901 files loaded\n",
      "1001 files loaded\n",
      "1101 files loaded\n",
      "1201 files loaded\n",
      "1301 files loaded\n",
      "1401 files loaded\n",
      "1501 files loaded\n",
      "1601 files loaded\n",
      "1701 files loaded\n",
      "1801 files loaded\n",
      "1901 files loaded\n",
      "2001 files loaded\n",
      "2101 files loaded\n",
      "2201 files loaded\n",
      "2301 files loaded\n",
      "2401 files loaded\n",
      "2501 files loaded\n",
      "2601 files loaded\n",
      "2701 files loaded\n",
      "2801 files loaded\n",
      "2901 files loaded\n",
      "3001 files loaded\n",
      "3101 files loaded\n",
      "3201 files loaded\n",
      "3301 files loaded\n",
      "3401 files loaded\n",
      "3501 files loaded\n",
      "3601 files loaded\n",
      "3701 files loaded\n",
      "3801 files loaded\n",
      "3901 files loaded\n",
      "4001 files loaded\n",
      "4101 files loaded\n",
      "4201 files loaded\n",
      "4301 files loaded\n",
      "4401 files loaded\n",
      "4501 files loaded\n",
      "4601 files loaded\n",
      "4701 files loaded\n",
      "4801 files loaded\n",
      "4901 files loaded\n",
      "5001 files loaded\n",
      "5101 files loaded\n",
      "5201 files loaded\n",
      "5301 files loaded\n",
      "5401 files loaded\n",
      "5501 files loaded\n",
      "5601 files loaded\n",
      "5701 files loaded\n",
      "5801 files loaded\n",
      "5901 files loaded\n",
      "6001 files loaded\n",
      "6101 files loaded\n",
      "6201 files loaded\n",
      "6301 files loaded\n",
      "6401 files loaded\n",
      "6501 files loaded\n",
      "6601 files loaded\n",
      "6701 files loaded\n",
      "6801 files loaded\n",
      "6901 files loaded\n",
      "7001 files loaded\n",
      "7101 files loaded\n",
      "7201 files loaded\n",
      "7301 files loaded\n",
      "7401 files loaded\n",
      "7501 files loaded\n",
      "7601 files loaded\n",
      "7701 files loaded\n",
      "7801 files loaded\n",
      "7901 files loaded\n",
      "8001 files loaded\n",
      "8101 files loaded\n",
      "8201 files loaded\n",
      "8301 files loaded\n",
      "8401 files loaded\n",
      "8501 files loaded\n",
      "8601 files loaded\n",
      "8701 files loaded\n",
      "8801 files loaded\n",
      "8901 files loaded\n",
      "9001 files loaded\n",
      "9101 files loaded\n",
      "9201 files loaded\n",
      "9301 files loaded\n",
      "9401 files loaded\n",
      "9501 files loaded\n",
      "9601 files loaded\n",
      "9701 files loaded\n",
      "9801 files loaded\n",
      "9901 files loaded\n",
      "10001 files loaded\n",
      "10015 files loaded\n"
     ]
    }
   ],
   "source": [
    "X_orig = get_img_arrs(filelist, input_shape)\n",
    "X_orig_inception = get_img_arrs(filelist, input_shape_inception)"
   ]
  },
  {
   "cell_type": "code",
   "execution_count": 6,
   "metadata": {},
   "outputs": [],
   "source": [
    "X_orig_file = 'X_orig.npy'\n",
    "np.save(X_orig_file, X_orig)\n",
    "\n",
    "X_orig_inception_file = 'X_orig_inception.npy'\n",
    "np.save(X_orig_inception_file, X_orig_inception)"
   ]
  },
  {
   "cell_type": "code",
   "execution_count": null,
   "metadata": {},
   "outputs": [],
   "source": []
  }
 ],
 "metadata": {
  "kernelspec": {
   "display_name": "Python 3",
   "language": "python",
   "name": "python3"
  },
  "language_info": {
   "codemirror_mode": {
    "name": "ipython",
    "version": 3
   },
   "file_extension": ".py",
   "mimetype": "text/x-python",
   "name": "python",
   "nbconvert_exporter": "python",
   "pygments_lexer": "ipython3",
   "version": "3.6.6"
  }
 },
 "nbformat": 4,
 "nbformat_minor": 2
}
