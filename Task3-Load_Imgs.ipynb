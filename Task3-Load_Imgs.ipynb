{
 "cells": [
  {
   "cell_type": "code",
   "execution_count": 1,
   "metadata": {},
   "outputs": [],
   "source": [
    "import numpy as np\n",
    "import pandas as pd\n",
    "import glob\n",
    "import matplotlib.pyplot as plt\n",
    "import skimage.transform"
   ]
  },
  {
   "cell_type": "code",
   "execution_count": 2,
   "metadata": {},
   "outputs": [],
   "source": [
    "def get_filelist(img_loc):\n",
    "    filelist = glob.glob(img_loc+'*.jpg')\n",
    "    filelist.sort()\n",
    "    return filelist"
   ]
  },
  {
   "cell_type": "code",
   "execution_count": 3,
   "metadata": {},
   "outputs": [],
   "source": [
    "img_loc = '../ISIC2018_Task3_Training_Input/'\n",
    "\n",
    "filelist = get_filelist(img_loc)"
   ]
  },
  {
   "cell_type": "code",
   "execution_count": 24,
   "metadata": {},
   "outputs": [],
   "source": [
    "# Load images as arrays\n",
    "\n",
    "bs = len(filelist)\n",
    "input_shape = [bs, 224, 224, 3]\n",
    "input_shape_inception = [bs, 299, 299, 3]\n",
    "num_crops = 4\n",
    "\n",
    "def get_final_img_arrs(filelist, input_shape, Y_df, num_crops):\n",
    "    \n",
    "    bs, n_H, n_W, n_C = input_shape\n",
    "    bs_rc = (np.sum((Y_df['DF']==1).astype(int)) + np.sum((Y_df['VASC']==1).astype(int)))*num_crops\n",
    "    X_rc = np.empty([bs_rc, n_H, n_W, n_C])\n",
    "    X_orig = np.empty([bs, n_H, n_W, n_C])\n",
    "    bs, n_H, n_W, n_C = input_shape\n",
    "    Xrcloc = 0\n",
    "    for i, fname in enumerate(filelist[:bs]):\n",
    "        img = plt.imread(fname)\n",
    "        if int(Y_df.iloc[i][6]) == 1 or int(Y_df.iloc[i][7]) == 1:\n",
    "            for j in range(num_crops):\n",
    "                c = np.random.choice(range(-20,20),4)\n",
    "                img_cropped = img[50+c[0]:400+c[1],50+c[2]:550+c[3],:]\n",
    "                img_cropped = skimage.transform.resize(img, (n_H,n_W), mode='constant')\n",
    "                X_rc[Xrcloc] = img_cropped\n",
    "                Xrcloc +=1\n",
    "        img = skimage.transform.resize(img, (n_H,n_W), mode='constant')\n",
    "        X_orig[i] = img\n",
    "        if i%100 == 99 or i == bs-1:\n",
    "            print('{} files loaded'.format(i+1))\n",
    "    X_final = np.vstack([X_orig, X_rc])\n",
    "    \n",
    "    return X_final"
   ]
  },
  {
   "cell_type": "code",
   "execution_count": 5,
   "metadata": {},
   "outputs": [],
   "source": [
    "labels_loc = '../ISIC2018_Task3_Training_GroundTruth/ISIC2018_Task3_Training_GroundTruth.csv'\n",
    "Y_df = pd.read_csv(labels_loc)"
   ]
  },
  {
   "cell_type": "code",
   "execution_count": 25,
   "metadata": {},
   "outputs": [
    {
     "name": "stderr",
     "output_type": "stream",
     "text": [
      "/scratch/user/pdwarkanath/.conda/envs/myenv3/lib/python3.6/site-packages/skimage/transform/_warps.py:110: UserWarning: Anti-aliasing will be enabled by default in skimage 0.15 to avoid aliasing artifacts when down-sampling images.\n",
      "  warn(\"Anti-aliasing will be enabled by default in skimage 0.15 to \"\n"
     ]
    },
    {
     "name": "stdout",
     "output_type": "stream",
     "text": [
      "100 files loaded\n",
      "200 files loaded\n",
      "300 files loaded\n",
      "400 files loaded\n",
      "500 files loaded\n",
      "600 files loaded\n",
      "700 files loaded\n",
      "800 files loaded\n",
      "900 files loaded\n",
      "1000 files loaded\n",
      "1100 files loaded\n",
      "1200 files loaded\n",
      "1300 files loaded\n",
      "1400 files loaded\n",
      "1500 files loaded\n",
      "1600 files loaded\n",
      "1700 files loaded\n",
      "1800 files loaded\n",
      "1900 files loaded\n",
      "2000 files loaded\n",
      "2100 files loaded\n",
      "2200 files loaded\n",
      "2300 files loaded\n",
      "2400 files loaded\n",
      "2500 files loaded\n",
      "2600 files loaded\n",
      "2700 files loaded\n",
      "2800 files loaded\n",
      "2900 files loaded\n",
      "3000 files loaded\n",
      "3100 files loaded\n",
      "3200 files loaded\n",
      "3300 files loaded\n",
      "3400 files loaded\n",
      "3500 files loaded\n",
      "3600 files loaded\n",
      "3700 files loaded\n",
      "3800 files loaded\n",
      "3900 files loaded\n",
      "4000 files loaded\n",
      "4100 files loaded\n",
      "4200 files loaded\n",
      "4300 files loaded\n",
      "4400 files loaded\n",
      "4500 files loaded\n",
      "4600 files loaded\n",
      "4700 files loaded\n",
      "4800 files loaded\n",
      "4900 files loaded\n",
      "5000 files loaded\n",
      "5100 files loaded\n",
      "5200 files loaded\n",
      "5300 files loaded\n",
      "5400 files loaded\n",
      "5500 files loaded\n",
      "5600 files loaded\n",
      "5700 files loaded\n",
      "5800 files loaded\n",
      "5900 files loaded\n",
      "6000 files loaded\n",
      "6100 files loaded\n",
      "6200 files loaded\n",
      "6300 files loaded\n",
      "6400 files loaded\n",
      "6500 files loaded\n",
      "6600 files loaded\n",
      "6700 files loaded\n",
      "6800 files loaded\n",
      "6900 files loaded\n",
      "7000 files loaded\n",
      "7100 files loaded\n",
      "7200 files loaded\n",
      "7300 files loaded\n",
      "7400 files loaded\n",
      "7500 files loaded\n",
      "7600 files loaded\n",
      "7700 files loaded\n",
      "7800 files loaded\n",
      "7900 files loaded\n",
      "8000 files loaded\n",
      "8100 files loaded\n",
      "8200 files loaded\n",
      "8300 files loaded\n",
      "8400 files loaded\n",
      "8500 files loaded\n",
      "8600 files loaded\n",
      "8700 files loaded\n",
      "8800 files loaded\n",
      "8900 files loaded\n",
      "9000 files loaded\n",
      "9100 files loaded\n",
      "9200 files loaded\n",
      "9300 files loaded\n",
      "9400 files loaded\n",
      "9500 files loaded\n",
      "9600 files loaded\n",
      "9700 files loaded\n",
      "9800 files loaded\n",
      "9900 files loaded\n",
      "10000 files loaded\n",
      "10015 files loaded\n"
     ]
    }
   ],
   "source": [
    "X_final = get_final_img_arrs(filelist, input_shape, Y_df, num_crops)"
   ]
  },
  {
   "cell_type": "code",
   "execution_count": 26,
   "metadata": {},
   "outputs": [
    {
     "data": {
      "text/plain": [
       "(11043, 224, 224, 3)"
      ]
     },
     "execution_count": 26,
     "metadata": {},
     "output_type": "execute_result"
    }
   ],
   "source": [
    "X_final.shape"
   ]
  },
  {
   "cell_type": "code",
   "execution_count": 27,
   "metadata": {},
   "outputs": [],
   "source": [
    "def get_final_img_labels(Y_df, input_shape, num_crops):\n",
    "    Y_df_rc = pd.DataFrame(columns = Y_df.columns)\n",
    "    bs, n_H, n_W, n_C = input_shape\n",
    "    Ydfrcloc = 0\n",
    "    for i, fname in enumerate(filelist[:bs]):\n",
    "        if int(Y_df.iloc[i][6]) == 1 or int(Y_df.iloc[i][7]) == 1:\n",
    "            for j in range(num_crops):\n",
    "                Y_df_rc.loc[Ydfrcloc] = Y_df.iloc[i]\n",
    "                Ydfrcloc +=1\n",
    "    Y_final_df = pd.concat([Y_df, Y_df_rc], ignore_index=True)\n",
    "    return Y_final_df"
   ]
  },
  {
   "cell_type": "code",
   "execution_count": 29,
   "metadata": {},
   "outputs": [
    {
     "data": {
      "text/plain": [
       "(11043, 8)"
      ]
     },
     "execution_count": 29,
     "metadata": {},
     "output_type": "execute_result"
    }
   ],
   "source": [
    "Y_final_df = get_final_img_labels(Y_df, input_shape, num_crops)\n",
    "Y_final_df.shape"
   ]
  },
  {
   "cell_type": "code",
   "execution_count": 30,
   "metadata": {},
   "outputs": [],
   "source": [
    "X_final_file = 'X_final.npy'\n",
    "np.save(X_final_file, X_final)\n",
    "\n",
    "#X_orig_inception_file = 'X_orig_inception.npy'\n",
    "#np.save(X_orig_inception_file, X_orig_inception)"
   ]
  },
  {
   "cell_type": "code",
   "execution_count": 31,
   "metadata": {},
   "outputs": [],
   "source": [
    "Y_final_df.to_csv('Y_final_df.csv', index = False)"
   ]
  },
  {
   "cell_type": "code",
   "execution_count": 34,
   "metadata": {},
   "outputs": [],
   "source": [
    "class_weights = np.array(np.mean(Y_final_df.iloc[:, 1:], axis = 0)).astype('float32')"
   ]
  },
  {
   "cell_type": "code",
   "execution_count": 35,
   "metadata": {},
   "outputs": [
    {
     "data": {
      "text/plain": [
       "array([0.10078783, 0.60717195, 0.04654532, 0.02961152, 0.09952006,\n",
       "       0.05206918, 0.06429412], dtype=float32)"
      ]
     },
     "execution_count": 35,
     "metadata": {},
     "output_type": "execute_result"
    }
   ],
   "source": [
    "class_weights"
   ]
  },
  {
   "cell_type": "code",
   "execution_count": null,
   "metadata": {},
   "outputs": [],
   "source": []
  }
 ],
 "metadata": {
  "kernelspec": {
   "display_name": "Python 3",
   "language": "python",
   "name": "python3"
  },
  "language_info": {
   "codemirror_mode": {
    "name": "ipython",
    "version": 3
   },
   "file_extension": ".py",
   "mimetype": "text/x-python",
   "name": "python",
   "nbconvert_exporter": "python",
   "pygments_lexer": "ipython3",
   "version": "3.6.6"
  }
 },
 "nbformat": 4,
 "nbformat_minor": 2
}
